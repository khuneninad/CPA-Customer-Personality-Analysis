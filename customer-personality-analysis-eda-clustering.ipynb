{
 "cells": [
  {
   "cell_type": "code",
   "execution_count": 1,
   "id": "c6960d21",
   "metadata": {
    "execution": {
     "iopub.execute_input": "2024-03-15T23:02:38.820519Z",
     "iopub.status.busy": "2024-03-15T23:02:38.820006Z",
     "iopub.status.idle": "2024-03-15T23:02:42.293734Z",
     "shell.execute_reply": "2024-03-15T23:02:42.292339Z"
    },
    "papermill": {
     "duration": 3.499496,
     "end_time": "2024-03-15T23:02:42.297654",
     "exception": false,
     "start_time": "2024-03-15T23:02:38.798158",
     "status": "completed"
    },
    "tags": []
   },
   "outputs": [],
   "source": [
    "import numpy as np\n",
    "import pandas as pd\n",
    "import matplotlib.pyplot as plt\n",
    "import warnings\n",
    "from datetime import datetime\n",
    "import seaborn as sns\n",
    "from sklearn.decomposition import PCA\n",
    "from sklearn.cluster import KMeans\n",
    "warnings.filterwarnings('ignore')\n"
   ]
  },
  {
   "cell_type": "code",
   "execution_count": 2,
   "id": "812b856c",
   "metadata": {
    "execution": {
     "iopub.execute_input": "2024-03-15T23:02:42.336372Z",
     "iopub.status.busy": "2024-03-15T23:02:42.335485Z",
     "iopub.status.idle": "2024-03-15T23:02:42.380354Z",
     "shell.execute_reply": "2024-03-15T23:02:42.378906Z"
    },
    "papermill": {
     "duration": 0.067917,
     "end_time": "2024-03-15T23:02:42.383653",
     "exception": false,
     "start_time": "2024-03-15T23:02:42.315736",
     "status": "completed"
    },
    "tags": []
   },
   "outputs": [],
   "source": [
    "df=pd.read_csv('/kaggle/input/customer-personality-analysis/marketing_campaign.csv', sep='\\t')"
   ]
  },
  {
   "cell_type": "code",
   "execution_count": 3,
   "id": "24008341",
   "metadata": {
    "execution": {
     "iopub.execute_input": "2024-03-15T23:02:42.423521Z",
     "iopub.status.busy": "2024-03-15T23:02:42.422546Z",
     "iopub.status.idle": "2024-03-15T23:02:42.468114Z",
     "shell.execute_reply": "2024-03-15T23:02:42.466886Z"
    },
    "papermill": {
     "duration": 0.068277,
     "end_time": "2024-03-15T23:02:42.470943",
     "exception": false,
     "start_time": "2024-03-15T23:02:42.402666",
     "status": "completed"
    },
    "tags": []
   },
   "outputs": [
    {
     "data": {
      "text/html": [
       "<div>\n",
       "<style scoped>\n",
       "    .dataframe tbody tr th:only-of-type {\n",
       "        vertical-align: middle;\n",
       "    }\n",
       "\n",
       "    .dataframe tbody tr th {\n",
       "        vertical-align: top;\n",
       "    }\n",
       "\n",
       "    .dataframe thead th {\n",
       "        text-align: right;\n",
       "    }\n",
       "</style>\n",
       "<table border=\"1\" class=\"dataframe\">\n",
       "  <thead>\n",
       "    <tr style=\"text-align: right;\">\n",
       "      <th></th>\n",
       "      <th>ID</th>\n",
       "      <th>Year_Birth</th>\n",
       "      <th>Education</th>\n",
       "      <th>Marital_Status</th>\n",
       "      <th>Income</th>\n",
       "      <th>Kidhome</th>\n",
       "      <th>Teenhome</th>\n",
       "      <th>Dt_Customer</th>\n",
       "      <th>Recency</th>\n",
       "      <th>MntWines</th>\n",
       "      <th>...</th>\n",
       "      <th>NumWebVisitsMonth</th>\n",
       "      <th>AcceptedCmp3</th>\n",
       "      <th>AcceptedCmp4</th>\n",
       "      <th>AcceptedCmp5</th>\n",
       "      <th>AcceptedCmp1</th>\n",
       "      <th>AcceptedCmp2</th>\n",
       "      <th>Complain</th>\n",
       "      <th>Z_CostContact</th>\n",
       "      <th>Z_Revenue</th>\n",
       "      <th>Response</th>\n",
       "    </tr>\n",
       "  </thead>\n",
       "  <tbody>\n",
       "    <tr>\n",
       "      <th>0</th>\n",
       "      <td>5524</td>\n",
       "      <td>1957</td>\n",
       "      <td>Graduation</td>\n",
       "      <td>Single</td>\n",
       "      <td>58138.0</td>\n",
       "      <td>0</td>\n",
       "      <td>0</td>\n",
       "      <td>04-09-2012</td>\n",
       "      <td>58</td>\n",
       "      <td>635</td>\n",
       "      <td>...</td>\n",
       "      <td>7</td>\n",
       "      <td>0</td>\n",
       "      <td>0</td>\n",
       "      <td>0</td>\n",
       "      <td>0</td>\n",
       "      <td>0</td>\n",
       "      <td>0</td>\n",
       "      <td>3</td>\n",
       "      <td>11</td>\n",
       "      <td>1</td>\n",
       "    </tr>\n",
       "    <tr>\n",
       "      <th>1</th>\n",
       "      <td>2174</td>\n",
       "      <td>1954</td>\n",
       "      <td>Graduation</td>\n",
       "      <td>Single</td>\n",
       "      <td>46344.0</td>\n",
       "      <td>1</td>\n",
       "      <td>1</td>\n",
       "      <td>08-03-2014</td>\n",
       "      <td>38</td>\n",
       "      <td>11</td>\n",
       "      <td>...</td>\n",
       "      <td>5</td>\n",
       "      <td>0</td>\n",
       "      <td>0</td>\n",
       "      <td>0</td>\n",
       "      <td>0</td>\n",
       "      <td>0</td>\n",
       "      <td>0</td>\n",
       "      <td>3</td>\n",
       "      <td>11</td>\n",
       "      <td>0</td>\n",
       "    </tr>\n",
       "    <tr>\n",
       "      <th>2</th>\n",
       "      <td>4141</td>\n",
       "      <td>1965</td>\n",
       "      <td>Graduation</td>\n",
       "      <td>Together</td>\n",
       "      <td>71613.0</td>\n",
       "      <td>0</td>\n",
       "      <td>0</td>\n",
       "      <td>21-08-2013</td>\n",
       "      <td>26</td>\n",
       "      <td>426</td>\n",
       "      <td>...</td>\n",
       "      <td>4</td>\n",
       "      <td>0</td>\n",
       "      <td>0</td>\n",
       "      <td>0</td>\n",
       "      <td>0</td>\n",
       "      <td>0</td>\n",
       "      <td>0</td>\n",
       "      <td>3</td>\n",
       "      <td>11</td>\n",
       "      <td>0</td>\n",
       "    </tr>\n",
       "    <tr>\n",
       "      <th>3</th>\n",
       "      <td>6182</td>\n",
       "      <td>1984</td>\n",
       "      <td>Graduation</td>\n",
       "      <td>Together</td>\n",
       "      <td>26646.0</td>\n",
       "      <td>1</td>\n",
       "      <td>0</td>\n",
       "      <td>10-02-2014</td>\n",
       "      <td>26</td>\n",
       "      <td>11</td>\n",
       "      <td>...</td>\n",
       "      <td>6</td>\n",
       "      <td>0</td>\n",
       "      <td>0</td>\n",
       "      <td>0</td>\n",
       "      <td>0</td>\n",
       "      <td>0</td>\n",
       "      <td>0</td>\n",
       "      <td>3</td>\n",
       "      <td>11</td>\n",
       "      <td>0</td>\n",
       "    </tr>\n",
       "    <tr>\n",
       "      <th>4</th>\n",
       "      <td>5324</td>\n",
       "      <td>1981</td>\n",
       "      <td>PhD</td>\n",
       "      <td>Married</td>\n",
       "      <td>58293.0</td>\n",
       "      <td>1</td>\n",
       "      <td>0</td>\n",
       "      <td>19-01-2014</td>\n",
       "      <td>94</td>\n",
       "      <td>173</td>\n",
       "      <td>...</td>\n",
       "      <td>5</td>\n",
       "      <td>0</td>\n",
       "      <td>0</td>\n",
       "      <td>0</td>\n",
       "      <td>0</td>\n",
       "      <td>0</td>\n",
       "      <td>0</td>\n",
       "      <td>3</td>\n",
       "      <td>11</td>\n",
       "      <td>0</td>\n",
       "    </tr>\n",
       "    <tr>\n",
       "      <th>...</th>\n",
       "      <td>...</td>\n",
       "      <td>...</td>\n",
       "      <td>...</td>\n",
       "      <td>...</td>\n",
       "      <td>...</td>\n",
       "      <td>...</td>\n",
       "      <td>...</td>\n",
       "      <td>...</td>\n",
       "      <td>...</td>\n",
       "      <td>...</td>\n",
       "      <td>...</td>\n",
       "      <td>...</td>\n",
       "      <td>...</td>\n",
       "      <td>...</td>\n",
       "      <td>...</td>\n",
       "      <td>...</td>\n",
       "      <td>...</td>\n",
       "      <td>...</td>\n",
       "      <td>...</td>\n",
       "      <td>...</td>\n",
       "      <td>...</td>\n",
       "    </tr>\n",
       "    <tr>\n",
       "      <th>2235</th>\n",
       "      <td>10870</td>\n",
       "      <td>1967</td>\n",
       "      <td>Graduation</td>\n",
       "      <td>Married</td>\n",
       "      <td>61223.0</td>\n",
       "      <td>0</td>\n",
       "      <td>1</td>\n",
       "      <td>13-06-2013</td>\n",
       "      <td>46</td>\n",
       "      <td>709</td>\n",
       "      <td>...</td>\n",
       "      <td>5</td>\n",
       "      <td>0</td>\n",
       "      <td>0</td>\n",
       "      <td>0</td>\n",
       "      <td>0</td>\n",
       "      <td>0</td>\n",
       "      <td>0</td>\n",
       "      <td>3</td>\n",
       "      <td>11</td>\n",
       "      <td>0</td>\n",
       "    </tr>\n",
       "    <tr>\n",
       "      <th>2236</th>\n",
       "      <td>4001</td>\n",
       "      <td>1946</td>\n",
       "      <td>PhD</td>\n",
       "      <td>Together</td>\n",
       "      <td>64014.0</td>\n",
       "      <td>2</td>\n",
       "      <td>1</td>\n",
       "      <td>10-06-2014</td>\n",
       "      <td>56</td>\n",
       "      <td>406</td>\n",
       "      <td>...</td>\n",
       "      <td>7</td>\n",
       "      <td>0</td>\n",
       "      <td>0</td>\n",
       "      <td>0</td>\n",
       "      <td>1</td>\n",
       "      <td>0</td>\n",
       "      <td>0</td>\n",
       "      <td>3</td>\n",
       "      <td>11</td>\n",
       "      <td>0</td>\n",
       "    </tr>\n",
       "    <tr>\n",
       "      <th>2237</th>\n",
       "      <td>7270</td>\n",
       "      <td>1981</td>\n",
       "      <td>Graduation</td>\n",
       "      <td>Divorced</td>\n",
       "      <td>56981.0</td>\n",
       "      <td>0</td>\n",
       "      <td>0</td>\n",
       "      <td>25-01-2014</td>\n",
       "      <td>91</td>\n",
       "      <td>908</td>\n",
       "      <td>...</td>\n",
       "      <td>6</td>\n",
       "      <td>0</td>\n",
       "      <td>1</td>\n",
       "      <td>0</td>\n",
       "      <td>0</td>\n",
       "      <td>0</td>\n",
       "      <td>0</td>\n",
       "      <td>3</td>\n",
       "      <td>11</td>\n",
       "      <td>0</td>\n",
       "    </tr>\n",
       "    <tr>\n",
       "      <th>2238</th>\n",
       "      <td>8235</td>\n",
       "      <td>1956</td>\n",
       "      <td>Master</td>\n",
       "      <td>Together</td>\n",
       "      <td>69245.0</td>\n",
       "      <td>0</td>\n",
       "      <td>1</td>\n",
       "      <td>24-01-2014</td>\n",
       "      <td>8</td>\n",
       "      <td>428</td>\n",
       "      <td>...</td>\n",
       "      <td>3</td>\n",
       "      <td>0</td>\n",
       "      <td>0</td>\n",
       "      <td>0</td>\n",
       "      <td>0</td>\n",
       "      <td>0</td>\n",
       "      <td>0</td>\n",
       "      <td>3</td>\n",
       "      <td>11</td>\n",
       "      <td>0</td>\n",
       "    </tr>\n",
       "    <tr>\n",
       "      <th>2239</th>\n",
       "      <td>9405</td>\n",
       "      <td>1954</td>\n",
       "      <td>PhD</td>\n",
       "      <td>Married</td>\n",
       "      <td>52869.0</td>\n",
       "      <td>1</td>\n",
       "      <td>1</td>\n",
       "      <td>15-10-2012</td>\n",
       "      <td>40</td>\n",
       "      <td>84</td>\n",
       "      <td>...</td>\n",
       "      <td>7</td>\n",
       "      <td>0</td>\n",
       "      <td>0</td>\n",
       "      <td>0</td>\n",
       "      <td>0</td>\n",
       "      <td>0</td>\n",
       "      <td>0</td>\n",
       "      <td>3</td>\n",
       "      <td>11</td>\n",
       "      <td>1</td>\n",
       "    </tr>\n",
       "  </tbody>\n",
       "</table>\n",
       "<p>2240 rows × 29 columns</p>\n",
       "</div>"
      ],
      "text/plain": [
       "         ID  Year_Birth   Education Marital_Status   Income  Kidhome  \\\n",
       "0      5524        1957  Graduation         Single  58138.0        0   \n",
       "1      2174        1954  Graduation         Single  46344.0        1   \n",
       "2      4141        1965  Graduation       Together  71613.0        0   \n",
       "3      6182        1984  Graduation       Together  26646.0        1   \n",
       "4      5324        1981         PhD        Married  58293.0        1   \n",
       "...     ...         ...         ...            ...      ...      ...   \n",
       "2235  10870        1967  Graduation        Married  61223.0        0   \n",
       "2236   4001        1946         PhD       Together  64014.0        2   \n",
       "2237   7270        1981  Graduation       Divorced  56981.0        0   \n",
       "2238   8235        1956      Master       Together  69245.0        0   \n",
       "2239   9405        1954         PhD        Married  52869.0        1   \n",
       "\n",
       "      Teenhome Dt_Customer  Recency  MntWines  ...  NumWebVisitsMonth  \\\n",
       "0            0  04-09-2012       58       635  ...                  7   \n",
       "1            1  08-03-2014       38        11  ...                  5   \n",
       "2            0  21-08-2013       26       426  ...                  4   \n",
       "3            0  10-02-2014       26        11  ...                  6   \n",
       "4            0  19-01-2014       94       173  ...                  5   \n",
       "...        ...         ...      ...       ...  ...                ...   \n",
       "2235         1  13-06-2013       46       709  ...                  5   \n",
       "2236         1  10-06-2014       56       406  ...                  7   \n",
       "2237         0  25-01-2014       91       908  ...                  6   \n",
       "2238         1  24-01-2014        8       428  ...                  3   \n",
       "2239         1  15-10-2012       40        84  ...                  7   \n",
       "\n",
       "      AcceptedCmp3  AcceptedCmp4  AcceptedCmp5  AcceptedCmp1  AcceptedCmp2  \\\n",
       "0                0             0             0             0             0   \n",
       "1                0             0             0             0             0   \n",
       "2                0             0             0             0             0   \n",
       "3                0             0             0             0             0   \n",
       "4                0             0             0             0             0   \n",
       "...            ...           ...           ...           ...           ...   \n",
       "2235             0             0             0             0             0   \n",
       "2236             0             0             0             1             0   \n",
       "2237             0             1             0             0             0   \n",
       "2238             0             0             0             0             0   \n",
       "2239             0             0             0             0             0   \n",
       "\n",
       "      Complain  Z_CostContact  Z_Revenue  Response  \n",
       "0            0              3         11         1  \n",
       "1            0              3         11         0  \n",
       "2            0              3         11         0  \n",
       "3            0              3         11         0  \n",
       "4            0              3         11         0  \n",
       "...        ...            ...        ...       ...  \n",
       "2235         0              3         11         0  \n",
       "2236         0              3         11         0  \n",
       "2237         0              3         11         0  \n",
       "2238         0              3         11         0  \n",
       "2239         0              3         11         1  \n",
       "\n",
       "[2240 rows x 29 columns]"
      ]
     },
     "execution_count": 3,
     "metadata": {},
     "output_type": "execute_result"
    }
   ],
   "source": [
    "df"
   ]
  },
  {
   "cell_type": "code",
   "execution_count": 4,
   "id": "91d70ed6",
   "metadata": {
    "execution": {
     "iopub.execute_input": "2024-03-15T23:02:42.511863Z",
     "iopub.status.busy": "2024-03-15T23:02:42.511362Z",
     "iopub.status.idle": "2024-03-15T23:02:42.539901Z",
     "shell.execute_reply": "2024-03-15T23:02:42.538695Z"
    },
    "papermill": {
     "duration": 0.052465,
     "end_time": "2024-03-15T23:02:42.543333",
     "exception": false,
     "start_time": "2024-03-15T23:02:42.490868",
     "status": "completed"
    },
    "tags": []
   },
   "outputs": [
    {
     "name": "stdout",
     "output_type": "stream",
     "text": [
      "<class 'pandas.core.frame.DataFrame'>\n",
      "RangeIndex: 2240 entries, 0 to 2239\n",
      "Data columns (total 29 columns):\n",
      " #   Column               Non-Null Count  Dtype  \n",
      "---  ------               --------------  -----  \n",
      " 0   ID                   2240 non-null   int64  \n",
      " 1   Year_Birth           2240 non-null   int64  \n",
      " 2   Education            2240 non-null   object \n",
      " 3   Marital_Status       2240 non-null   object \n",
      " 4   Income               2216 non-null   float64\n",
      " 5   Kidhome              2240 non-null   int64  \n",
      " 6   Teenhome             2240 non-null   int64  \n",
      " 7   Dt_Customer          2240 non-null   object \n",
      " 8   Recency              2240 non-null   int64  \n",
      " 9   MntWines             2240 non-null   int64  \n",
      " 10  MntFruits            2240 non-null   int64  \n",
      " 11  MntMeatProducts      2240 non-null   int64  \n",
      " 12  MntFishProducts      2240 non-null   int64  \n",
      " 13  MntSweetProducts     2240 non-null   int64  \n",
      " 14  MntGoldProds         2240 non-null   int64  \n",
      " 15  NumDealsPurchases    2240 non-null   int64  \n",
      " 16  NumWebPurchases      2240 non-null   int64  \n",
      " 17  NumCatalogPurchases  2240 non-null   int64  \n",
      " 18  NumStorePurchases    2240 non-null   int64  \n",
      " 19  NumWebVisitsMonth    2240 non-null   int64  \n",
      " 20  AcceptedCmp3         2240 non-null   int64  \n",
      " 21  AcceptedCmp4         2240 non-null   int64  \n",
      " 22  AcceptedCmp5         2240 non-null   int64  \n",
      " 23  AcceptedCmp1         2240 non-null   int64  \n",
      " 24  AcceptedCmp2         2240 non-null   int64  \n",
      " 25  Complain             2240 non-null   int64  \n",
      " 26  Z_CostContact        2240 non-null   int64  \n",
      " 27  Z_Revenue            2240 non-null   int64  \n",
      " 28  Response             2240 non-null   int64  \n",
      "dtypes: float64(1), int64(25), object(3)\n",
      "memory usage: 507.6+ KB\n"
     ]
    }
   ],
   "source": [
    "df.info()"
   ]
  },
  {
   "cell_type": "markdown",
   "id": "1d3e284c",
   "metadata": {
    "papermill": {
     "duration": 0.01861,
     "end_time": "2024-03-15T23:02:42.581182",
     "exception": false,
     "start_time": "2024-03-15T23:02:42.562572",
     "status": "completed"
    },
    "tags": []
   },
   "source": [
    "# distribution of customer education level"
   ]
  },
  {
   "cell_type": "code",
   "execution_count": 5,
   "id": "c1e79153",
   "metadata": {
    "execution": {
     "iopub.execute_input": "2024-03-15T23:02:42.622545Z",
     "iopub.status.busy": "2024-03-15T23:02:42.621599Z",
     "iopub.status.idle": "2024-03-15T23:02:42.632128Z",
     "shell.execute_reply": "2024-03-15T23:02:42.630822Z"
    },
    "papermill": {
     "duration": 0.033771,
     "end_time": "2024-03-15T23:02:42.634769",
     "exception": false,
     "start_time": "2024-03-15T23:02:42.600998",
     "status": "completed"
    },
    "tags": []
   },
   "outputs": [
    {
     "data": {
      "text/plain": [
       "Education\n",
       "Graduation    1127\n",
       "PhD            486\n",
       "Master         370\n",
       "2n Cycle       203\n",
       "Basic           54\n",
       "Name: count, dtype: int64"
      ]
     },
     "execution_count": 5,
     "metadata": {},
     "output_type": "execute_result"
    }
   ],
   "source": [
    "education_level_distribution = df['Education'].value_counts()\n",
    "education_level_distribution"
   ]
  },
  {
   "cell_type": "code",
   "execution_count": 6,
   "id": "05843fc2",
   "metadata": {
    "execution": {
     "iopub.execute_input": "2024-03-15T23:02:42.675795Z",
     "iopub.status.busy": "2024-03-15T23:02:42.675018Z",
     "iopub.status.idle": "2024-03-15T23:02:43.025997Z",
     "shell.execute_reply": "2024-03-15T23:02:43.024539Z"
    },
    "papermill": {
     "duration": 0.375771,
     "end_time": "2024-03-15T23:02:43.029959",
     "exception": false,
     "start_time": "2024-03-15T23:02:42.654188",
     "status": "completed"
    },
    "tags": []
   },
   "outputs": [
    {
     "data": {
      "image/png": "[encoded data removed]",
      "text/plain": [
       "<Figure size 800x600 with 1 Axes>"
      ]
     },
     "metadata": {},
     "output_type": "display_data"
    }
   ],
   "source": [
    "plt.figure(figsize=(8, 6))\n",
    "education_level_distribution.plot(kind='bar', color='skyblue')\n",
    "plt.title('Distribution of Customer Education Level Codes')\n",
    "plt.xlabel('Education Level Code')\n",
    "plt.ylabel('Count')\n",
    "plt.show()"
   ]
  },
  {
   "cell_type": "markdown",
   "id": "8a8ea1f8",
   "metadata": {
    "papermill": {
     "duration": 0.019389,
     "end_time": "2024-03-15T23:02:43.071297",
     "exception": false,
     "start_time": "2024-03-15T23:02:43.051908",
     "status": "completed"
    },
    "tags": []
   },
   "source": [
    "# martial status vary among customers"
   ]
  },
  {
   "cell_type": "code",
   "execution_count": 7,
   "id": "16069b06",
   "metadata": {
    "execution": {
     "iopub.execute_input": "2024-03-15T23:02:43.113121Z",
     "iopub.status.busy": "2024-03-15T23:02:43.112305Z",
     "iopub.status.idle": "2024-03-15T23:02:43.122728Z",
     "shell.execute_reply": "2024-03-15T23:02:43.121374Z"
    },
    "papermill": {
     "duration": 0.034412,
     "end_time": "2024-03-15T23:02:43.125311",
     "exception": false,
     "start_time": "2024-03-15T23:02:43.090899",
     "status": "completed"
    },
    "tags": []
   },
   "outputs": [
    {
     "data": {
      "text/plain": [
       "Marital_Status\n",
       "Married     864\n",
       "Together    580\n",
       "Single      480\n",
       "Divorced    232\n",
       "Widow        77\n",
       "Alone         3\n",
       "Absurd        2\n",
       "YOLO          2\n",
       "Name: count, dtype: int64"
      ]
     },
     "execution_count": 7,
     "metadata": {},
     "output_type": "execute_result"
    }
   ],
   "source": [
    "marital_status_distribution = df['Marital_Status'].value_counts()\n",
    "marital_status_distribution"
   ]
  },
  {
   "cell_type": "code",
   "execution_count": 8,
   "id": "7ecca55b",
   "metadata": {
    "execution": {
     "iopub.execute_input": "2024-03-15T23:02:43.169317Z",
     "iopub.status.busy": "2024-03-15T23:02:43.167954Z",
     "iopub.status.idle": "2024-03-15T23:02:43.476199Z",
     "shell.execute_reply": "2024-03-15T23:02:43.474931Z"
    },
    "papermill": {
     "duration": 0.334066,
     "end_time": "2024-03-15T23:02:43.479089",
     "exception": false,
     "start_time": "2024-03-15T23:02:43.145023",
     "status": "completed"
    },
    "tags": []
   },
   "outputs": [
    {
     "data": {
      "image/png": "[encoded data removed]",
      "text/plain": [
       "<Figure size 800x600 with 1 Axes>"
      ]
     },
     "metadata": {},
     "output_type": "display_data"
    }
   ],
   "source": [
    "plt.figure(figsize=(8, 6))\n",
    "marital_status_distribution.plot(kind='bar', color='skyblue')\n",
    "plt.title('Distribution of Customer Education Level Codes')\n",
    "plt.xlabel('Education Level Code')\n",
    "plt.ylabel('Count')\n",
    "plt.show()"
   ]
  },
  {
   "cell_type": "code",
   "execution_count": 9,
   "id": "8bdcd846",
   "metadata": {
    "execution": {
     "iopub.execute_input": "2024-03-15T23:02:43.521679Z",
     "iopub.status.busy": "2024-03-15T23:02:43.521194Z",
     "iopub.status.idle": "2024-03-15T23:02:43.530365Z",
     "shell.execute_reply": "2024-03-15T23:02:43.528890Z"
    },
    "papermill": {
     "duration": 0.033597,
     "end_time": "2024-03-15T23:02:43.532898",
     "exception": false,
     "start_time": "2024-03-15T23:02:43.499301",
     "status": "completed"
    },
    "tags": []
   },
   "outputs": [
    {
     "data": {
      "text/plain": [
       "52247.25135379061"
      ]
     },
     "execution_count": 9,
     "metadata": {},
     "output_type": "execute_result"
    }
   ],
   "source": [
    "average_income = df['Income'].mean()\n",
    "average_income"
   ]
  },
  {
   "cell_type": "code",
   "execution_count": 10,
   "id": "1207e1a5",
   "metadata": {
    "execution": {
     "iopub.execute_input": "2024-03-15T23:02:43.575839Z",
     "iopub.status.busy": "2024-03-15T23:02:43.575344Z",
     "iopub.status.idle": "2024-03-15T23:02:43.873126Z",
     "shell.execute_reply": "2024-03-15T23:02:43.871678Z"
    },
    "papermill": {
     "duration": 0.323092,
     "end_time": "2024-03-15T23:02:43.876410",
     "exception": false,
     "start_time": "2024-03-15T23:02:43.553318",
     "status": "completed"
    },
    "tags": []
   },
   "outputs": [
    {
     "data": {
      "image/png": "[encoded data removed]",
      "text/plain": [
       "<Figure size 800x600 with 1 Axes>"
      ]
     },
     "metadata": {},
     "output_type": "display_data"
    }
   ],
   "source": [
    "income_by_kids = df.groupby('Kidhome')['Income'].mean()\n",
    "plt.figure(figsize=(8, 6))\n",
    "income_by_kids.plot(kind='bar')\n",
    "plt.title('Average Income by Number of Kids at Home')\n",
    "plt.xlabel('Number of Kids at Home')\n",
    "plt.ylabel('Average Income')\n",
    "plt.show()"
   ]
  },
  {
   "cell_type": "code",
   "execution_count": 11,
   "id": "44c5bfd3",
   "metadata": {
    "execution": {
     "iopub.execute_input": "2024-03-15T23:02:43.922916Z",
     "iopub.status.busy": "2024-03-15T23:02:43.922025Z",
     "iopub.status.idle": "2024-03-15T23:02:44.115135Z",
     "shell.execute_reply": "2024-03-15T23:02:44.113234Z"
    },
    "papermill": {
     "duration": 0.222796,
     "end_time": "2024-03-15T23:02:44.121212",
     "exception": false,
     "start_time": "2024-03-15T23:02:43.898416",
     "status": "completed"
    },
    "tags": []
   },
   "outputs": [
    {
     "data": {
      "image/png": "[encoded data removed]",
      "text/plain": [
       "<Figure size 800x600 with 1 Axes>"
      ]
     },
     "metadata": {},
     "output_type": "display_data"
    }
   ],
   "source": [
    "income_by_kids = df.groupby('Teenhome')['Income'].mean()\n",
    "plt.figure(figsize=(8, 6))\n",
    "income_by_kids.plot(kind='pie')\n",
    "plt.title('Average Income by Number of Kids at Home')\n",
    "plt.xlabel('Number of Kids at Home')\n",
    "plt.ylabel('Average Income')\n",
    "plt.show()"
   ]
  },
  {
   "cell_type": "code",
   "execution_count": 12,
   "id": "3dbd89f7",
   "metadata": {
    "execution": {
     "iopub.execute_input": "2024-03-15T23:02:44.179573Z",
     "iopub.status.busy": "2024-03-15T23:02:44.179093Z",
     "iopub.status.idle": "2024-03-15T23:02:44.191197Z",
     "shell.execute_reply": "2024-03-15T23:02:44.189880Z"
    },
    "papermill": {
     "duration": 0.03769,
     "end_time": "2024-03-15T23:02:44.193754",
     "exception": false,
     "start_time": "2024-03-15T23:02:44.156064",
     "status": "completed"
    },
    "tags": []
   },
   "outputs": [
    {
     "data": {
      "text/plain": [
       "Marital_Status\n",
       "Absurd      72365.500000\n",
       "Alone       43789.000000\n",
       "Divorced    52834.228448\n",
       "Married     51724.978996\n",
       "Single      50995.350318\n",
       "Together    53245.534031\n",
       "Widow       56481.552632\n",
       "YOLO        48432.000000\n",
       "Name: Income, dtype: float64"
      ]
     },
     "execution_count": 12,
     "metadata": {},
     "output_type": "execute_result"
    }
   ],
   "source": [
    "income_by_martialstatus = df.groupby('Marital_Status')['Income'].mean()\n",
    "income_by_martialstatus"
   ]
  },
  {
   "cell_type": "code",
   "execution_count": 13,
   "id": "6447f0de",
   "metadata": {
    "execution": {
     "iopub.execute_input": "2024-03-15T23:02:44.242700Z",
     "iopub.status.busy": "2024-03-15T23:02:44.240999Z",
     "iopub.status.idle": "2024-03-15T23:02:44.578789Z",
     "shell.execute_reply": "2024-03-15T23:02:44.577214Z"
    },
    "papermill": {
     "duration": 0.364976,
     "end_time": "2024-03-15T23:02:44.581662",
     "exception": false,
     "start_time": "2024-03-15T23:02:44.216686",
     "status": "completed"
    },
    "tags": []
   },
   "outputs": [
    {
     "data": {
      "image/png": "[encoded data removed]",
      "text/plain": [
       "<Figure size 800x600 with 1 Axes>"
      ]
     },
     "metadata": {},
     "output_type": "display_data"
    }
   ],
   "source": [
    "plt.figure(figsize=(8, 6))\n",
    "income_by_martialstatus.plot(kind='bar', color='skyblue')\n",
    "plt.title('Distribution of Customer Education Level Codes')\n",
    "plt.xlabel('Education Level Code')\n",
    "plt.ylabel('Count')\n",
    "plt.show()"
   ]
  },
  {
   "cell_type": "code",
   "execution_count": 14,
   "id": "d6b9d1ca",
   "metadata": {
    "execution": {
     "iopub.execute_input": "2024-03-15T23:02:44.629719Z",
     "iopub.status.busy": "2024-03-15T23:02:44.628912Z",
     "iopub.status.idle": "2024-03-15T23:02:44.640010Z",
     "shell.execute_reply": "2024-03-15T23:02:44.638497Z"
    },
    "papermill": {
     "duration": 0.038892,
     "end_time": "2024-03-15T23:02:44.643025",
     "exception": false,
     "start_time": "2024-03-15T23:02:44.604133",
     "status": "completed"
    },
    "tags": []
   },
   "outputs": [
    {
     "data": {
      "text/plain": [
       "Education\n",
       "2n Cycle      47633.190000\n",
       "Basic         20306.259259\n",
       "Graduation    52720.373656\n",
       "Master        52917.534247\n",
       "PhD           56145.313929\n",
       "Name: Income, dtype: float64"
      ]
     },
     "execution_count": 14,
     "metadata": {},
     "output_type": "execute_result"
    }
   ],
   "source": [
    "income_by_Education = df.groupby('Education')['Income'].mean()\n",
    "income_by_Education"
   ]
  },
  {
   "cell_type": "code",
   "execution_count": 15,
   "id": "b33d6315",
   "metadata": {
    "execution": {
     "iopub.execute_input": "2024-03-15T23:02:44.695262Z",
     "iopub.status.busy": "2024-03-15T23:02:44.694100Z",
     "iopub.status.idle": "2024-03-15T23:02:44.996324Z",
     "shell.execute_reply": "2024-03-15T23:02:44.995012Z"
    },
    "papermill": {
     "duration": 0.331357,
     "end_time": "2024-03-15T23:02:44.999114",
     "exception": false,
     "start_time": "2024-03-15T23:02:44.667757",
     "status": "completed"
    },
    "tags": []
   },
   "outputs": [
    {
     "data": {
      "image/png": "[encoded data removed]",
      "text/plain": [
       "<Figure size 800x600 with 1 Axes>"
      ]
     },
     "metadata": {},
     "output_type": "display_data"
    }
   ],
   "source": [
    "plt.figure(figsize=(8, 6))\n",
    "income_by_Education.plot(kind='bar', color='skyblue')\n",
    "plt.title('Distribution of Customer Education Level Codes')\n",
    "plt.xlabel('Education Level Code')\n",
    "plt.ylabel('Count')\n",
    "plt.show()"
   ]
  },
  {
   "cell_type": "code",
   "execution_count": 16,
   "id": "0528a3d2",
   "metadata": {
    "execution": {
     "iopub.execute_input": "2024-03-15T23:02:45.060924Z",
     "iopub.status.busy": "2024-03-15T23:02:45.060046Z",
     "iopub.status.idle": "2024-03-15T23:02:45.099657Z",
     "shell.execute_reply": "2024-03-15T23:02:45.097729Z"
    },
    "papermill": {
     "duration": 0.071591,
     "end_time": "2024-03-15T23:02:45.103877",
     "exception": false,
     "start_time": "2024-03-15T23:02:45.032286",
     "status": "completed"
    },
    "tags": []
   },
   "outputs": [
    {
     "data": {
      "text/html": [
       "<div>\n",
       "<style scoped>\n",
       "    .dataframe tbody tr th:only-of-type {\n",
       "        vertical-align: middle;\n",
       "    }\n",
       "\n",
       "    .dataframe tbody tr th {\n",
       "        vertical-align: top;\n",
       "    }\n",
       "\n",
       "    .dataframe thead th {\n",
       "        text-align: right;\n",
       "    }\n",
       "</style>\n",
       "<table border=\"1\" class=\"dataframe\">\n",
       "  <thead>\n",
       "    <tr style=\"text-align: right;\">\n",
       "      <th></th>\n",
       "      <th>Dt_Customer</th>\n",
       "      <th>Recency</th>\n",
       "    </tr>\n",
       "  </thead>\n",
       "  <tbody>\n",
       "    <tr>\n",
       "      <th>0</th>\n",
       "      <td>2012-09-04</td>\n",
       "      <td>4210</td>\n",
       "    </tr>\n",
       "    <tr>\n",
       "      <th>1</th>\n",
       "      <td>2014-03-08</td>\n",
       "      <td>3660</td>\n",
       "    </tr>\n",
       "    <tr>\n",
       "      <th>2</th>\n",
       "      <td>2013-08-21</td>\n",
       "      <td>3859</td>\n",
       "    </tr>\n",
       "    <tr>\n",
       "      <th>3</th>\n",
       "      <td>2014-02-10</td>\n",
       "      <td>3686</td>\n",
       "    </tr>\n",
       "    <tr>\n",
       "      <th>4</th>\n",
       "      <td>2014-01-19</td>\n",
       "      <td>3708</td>\n",
       "    </tr>\n",
       "    <tr>\n",
       "      <th>...</th>\n",
       "      <td>...</td>\n",
       "      <td>...</td>\n",
       "    </tr>\n",
       "    <tr>\n",
       "      <th>2235</th>\n",
       "      <td>2013-06-13</td>\n",
       "      <td>3928</td>\n",
       "    </tr>\n",
       "    <tr>\n",
       "      <th>2236</th>\n",
       "      <td>2014-06-10</td>\n",
       "      <td>3566</td>\n",
       "    </tr>\n",
       "    <tr>\n",
       "      <th>2237</th>\n",
       "      <td>2014-01-25</td>\n",
       "      <td>3702</td>\n",
       "    </tr>\n",
       "    <tr>\n",
       "      <th>2238</th>\n",
       "      <td>2014-01-24</td>\n",
       "      <td>3703</td>\n",
       "    </tr>\n",
       "    <tr>\n",
       "      <th>2239</th>\n",
       "      <td>2012-10-15</td>\n",
       "      <td>4169</td>\n",
       "    </tr>\n",
       "  </tbody>\n",
       "</table>\n",
       "<p>2240 rows × 2 columns</p>\n",
       "</div>"
      ],
      "text/plain": [
       "     Dt_Customer  Recency\n",
       "0     2012-09-04     4210\n",
       "1     2014-03-08     3660\n",
       "2     2013-08-21     3859\n",
       "3     2014-02-10     3686\n",
       "4     2014-01-19     3708\n",
       "...          ...      ...\n",
       "2235  2013-06-13     3928\n",
       "2236  2014-06-10     3566\n",
       "2237  2014-01-25     3702\n",
       "2238  2014-01-24     3703\n",
       "2239  2012-10-15     4169\n",
       "\n",
       "[2240 rows x 2 columns]"
      ]
     },
     "execution_count": 16,
     "metadata": {},
     "output_type": "execute_result"
    }
   ],
   "source": [
    "df['Dt_Customer'] = pd.to_datetime(df['Dt_Customer'],format='%d-%m-%Y')\n",
    "current_date = pd.to_datetime(datetime.now().date())\n",
    "df['Recency'] = (current_date - df['Dt_Customer']).dt.days\n",
    "df[['Dt_Customer', 'Recency']]\n"
   ]
  },
  {
   "cell_type": "code",
   "execution_count": 17,
   "id": "0956cf8a",
   "metadata": {
    "execution": {
     "iopub.execute_input": "2024-03-15T23:02:45.171001Z",
     "iopub.status.busy": "2024-03-15T23:02:45.169743Z",
     "iopub.status.idle": "2024-03-15T23:02:45.180886Z",
     "shell.execute_reply": "2024-03-15T23:02:45.179471Z"
    },
    "papermill": {
     "duration": 0.047693,
     "end_time": "2024-03-15T23:02:45.184340",
     "exception": false,
     "start_time": "2024-03-15T23:02:45.136647",
     "status": "completed"
    },
    "tags": []
   },
   "outputs": [
    {
     "data": {
      "text/plain": [
       "-0.018530776603923976"
      ]
     },
     "execution_count": 17,
     "metadata": {},
     "output_type": "execute_result"
    }
   ],
   "source": [
    "correlation = df['Recency'].corr(df['Income'])\n",
    "correlation"
   ]
  },
  {
   "cell_type": "code",
   "execution_count": 18,
   "id": "a269192d",
   "metadata": {
    "execution": {
     "iopub.execute_input": "2024-03-15T23:02:45.243399Z",
     "iopub.status.busy": "2024-03-15T23:02:45.242893Z",
     "iopub.status.idle": "2024-03-15T23:02:45.248155Z",
     "shell.execute_reply": "2024-03-15T23:02:45.246844Z"
    },
    "papermill": {
     "duration": 0.033651,
     "end_time": "2024-03-15T23:02:45.250779",
     "exception": false,
     "start_time": "2024-03-15T23:02:45.217128",
     "status": "completed"
    },
    "tags": []
   },
   "outputs": [],
   "source": [
    "import seaborn as sns\n"
   ]
  },
  {
   "cell_type": "code",
   "execution_count": 19,
   "id": "2922bd50",
   "metadata": {
    "execution": {
     "iopub.execute_input": "2024-03-15T23:02:45.300943Z",
     "iopub.status.busy": "2024-03-15T23:02:45.299832Z",
     "iopub.status.idle": "2024-03-15T23:02:45.330375Z",
     "shell.execute_reply": "2024-03-15T23:02:45.329084Z"
    },
    "papermill": {
     "duration": 0.058807,
     "end_time": "2024-03-15T23:02:45.333135",
     "exception": false,
     "start_time": "2024-03-15T23:02:45.274328",
     "status": "completed"
    },
    "tags": []
   },
   "outputs": [
    {
     "data": {
      "text/html": [
       "<div>\n",
       "<style scoped>\n",
       "    .dataframe tbody tr th:only-of-type {\n",
       "        vertical-align: middle;\n",
       "    }\n",
       "\n",
       "    .dataframe tbody tr th {\n",
       "        vertical-align: top;\n",
       "    }\n",
       "\n",
       "    .dataframe thead th {\n",
       "        text-align: right;\n",
       "    }\n",
       "</style>\n",
       "<table border=\"1\" class=\"dataframe\">\n",
       "  <thead>\n",
       "    <tr style=\"text-align: right;\">\n",
       "      <th></th>\n",
       "      <th>Year_Birth</th>\n",
       "      <th>Income</th>\n",
       "      <th>Kidhome</th>\n",
       "      <th>Teenhome</th>\n",
       "      <th>Recency</th>\n",
       "      <th>Complain</th>\n",
       "      <th>MntWines</th>\n",
       "      <th>MntFruits</th>\n",
       "      <th>MntMeatProducts</th>\n",
       "      <th>MntFishProducts</th>\n",
       "      <th>MntSweetProducts</th>\n",
       "      <th>MntGoldProds</th>\n",
       "    </tr>\n",
       "  </thead>\n",
       "  <tbody>\n",
       "    <tr>\n",
       "      <th>Year_Birth</th>\n",
       "      <td>1.000000</td>\n",
       "      <td>-0.161791</td>\n",
       "      <td>0.230176</td>\n",
       "      <td>-0.352111</td>\n",
       "      <td>0.022431</td>\n",
       "      <td>-0.030128</td>\n",
       "      <td>-0.157773</td>\n",
       "      <td>-0.017917</td>\n",
       "      <td>-0.030872</td>\n",
       "      <td>-0.041625</td>\n",
       "      <td>-0.018133</td>\n",
       "      <td>-0.061818</td>\n",
       "    </tr>\n",
       "    <tr>\n",
       "      <th>Income</th>\n",
       "      <td>-0.161791</td>\n",
       "      <td>1.000000</td>\n",
       "      <td>-0.428669</td>\n",
       "      <td>0.019133</td>\n",
       "      <td>-0.018531</td>\n",
       "      <td>-0.027225</td>\n",
       "      <td>0.578650</td>\n",
       "      <td>0.430842</td>\n",
       "      <td>0.584633</td>\n",
       "      <td>0.438871</td>\n",
       "      <td>0.440744</td>\n",
       "      <td>0.325916</td>\n",
       "    </tr>\n",
       "    <tr>\n",
       "      <th>Kidhome</th>\n",
       "      <td>0.230176</td>\n",
       "      <td>-0.428669</td>\n",
       "      <td>1.000000</td>\n",
       "      <td>-0.036133</td>\n",
       "      <td>-0.053343</td>\n",
       "      <td>0.040207</td>\n",
       "      <td>-0.496297</td>\n",
       "      <td>-0.372581</td>\n",
       "      <td>-0.437129</td>\n",
       "      <td>-0.387644</td>\n",
       "      <td>-0.370673</td>\n",
       "      <td>-0.349595</td>\n",
       "    </tr>\n",
       "    <tr>\n",
       "      <th>Teenhome</th>\n",
       "      <td>-0.352111</td>\n",
       "      <td>0.019133</td>\n",
       "      <td>-0.036133</td>\n",
       "      <td>1.000000</td>\n",
       "      <td>0.017465</td>\n",
       "      <td>0.003138</td>\n",
       "      <td>0.004846</td>\n",
       "      <td>-0.176764</td>\n",
       "      <td>-0.261160</td>\n",
       "      <td>-0.204187</td>\n",
       "      <td>-0.162475</td>\n",
       "      <td>-0.021725</td>\n",
       "    </tr>\n",
       "    <tr>\n",
       "      <th>Recency</th>\n",
       "      <td>0.022431</td>\n",
       "      <td>-0.018531</td>\n",
       "      <td>-0.053343</td>\n",
       "      <td>0.017465</td>\n",
       "      <td>1.000000</td>\n",
       "      <td>0.033120</td>\n",
       "      <td>0.166264</td>\n",
       "      <td>0.066928</td>\n",
       "      <td>0.092713</td>\n",
       "      <td>0.080769</td>\n",
       "      <td>0.081268</td>\n",
       "      <td>0.159596</td>\n",
       "    </tr>\n",
       "    <tr>\n",
       "      <th>Complain</th>\n",
       "      <td>-0.030128</td>\n",
       "      <td>-0.027225</td>\n",
       "      <td>0.040207</td>\n",
       "      <td>0.003138</td>\n",
       "      <td>0.033120</td>\n",
       "      <td>1.000000</td>\n",
       "      <td>-0.039007</td>\n",
       "      <td>-0.005166</td>\n",
       "      <td>-0.023483</td>\n",
       "      <td>-0.020953</td>\n",
       "      <td>-0.022485</td>\n",
       "      <td>-0.030861</td>\n",
       "    </tr>\n",
       "    <tr>\n",
       "      <th>MntWines</th>\n",
       "      <td>-0.157773</td>\n",
       "      <td>0.578650</td>\n",
       "      <td>-0.496297</td>\n",
       "      <td>0.004846</td>\n",
       "      <td>0.166264</td>\n",
       "      <td>-0.039007</td>\n",
       "      <td>1.000000</td>\n",
       "      <td>0.389637</td>\n",
       "      <td>0.562667</td>\n",
       "      <td>0.399753</td>\n",
       "      <td>0.386581</td>\n",
       "      <td>0.387516</td>\n",
       "    </tr>\n",
       "    <tr>\n",
       "      <th>MntFruits</th>\n",
       "      <td>-0.017917</td>\n",
       "      <td>0.430842</td>\n",
       "      <td>-0.372581</td>\n",
       "      <td>-0.176764</td>\n",
       "      <td>0.066928</td>\n",
       "      <td>-0.005166</td>\n",
       "      <td>0.389637</td>\n",
       "      <td>1.000000</td>\n",
       "      <td>0.543105</td>\n",
       "      <td>0.594804</td>\n",
       "      <td>0.567164</td>\n",
       "      <td>0.392995</td>\n",
       "    </tr>\n",
       "    <tr>\n",
       "      <th>MntMeatProducts</th>\n",
       "      <td>-0.030872</td>\n",
       "      <td>0.584633</td>\n",
       "      <td>-0.437129</td>\n",
       "      <td>-0.261160</td>\n",
       "      <td>0.092713</td>\n",
       "      <td>-0.023483</td>\n",
       "      <td>0.562667</td>\n",
       "      <td>0.543105</td>\n",
       "      <td>1.000000</td>\n",
       "      <td>0.568402</td>\n",
       "      <td>0.523846</td>\n",
       "      <td>0.350609</td>\n",
       "    </tr>\n",
       "    <tr>\n",
       "      <th>MntFishProducts</th>\n",
       "      <td>-0.041625</td>\n",
       "      <td>0.438871</td>\n",
       "      <td>-0.387644</td>\n",
       "      <td>-0.204187</td>\n",
       "      <td>0.080769</td>\n",
       "      <td>-0.020953</td>\n",
       "      <td>0.399753</td>\n",
       "      <td>0.594804</td>\n",
       "      <td>0.568402</td>\n",
       "      <td>1.000000</td>\n",
       "      <td>0.579870</td>\n",
       "      <td>0.422875</td>\n",
       "    </tr>\n",
       "    <tr>\n",
       "      <th>MntSweetProducts</th>\n",
       "      <td>-0.018133</td>\n",
       "      <td>0.440744</td>\n",
       "      <td>-0.370673</td>\n",
       "      <td>-0.162475</td>\n",
       "      <td>0.081268</td>\n",
       "      <td>-0.022485</td>\n",
       "      <td>0.386581</td>\n",
       "      <td>0.567164</td>\n",
       "      <td>0.523846</td>\n",
       "      <td>0.579870</td>\n",
       "      <td>1.000000</td>\n",
       "      <td>0.369724</td>\n",
       "    </tr>\n",
       "    <tr>\n",
       "      <th>MntGoldProds</th>\n",
       "      <td>-0.061818</td>\n",
       "      <td>0.325916</td>\n",
       "      <td>-0.349595</td>\n",
       "      <td>-0.021725</td>\n",
       "      <td>0.159596</td>\n",
       "      <td>-0.030861</td>\n",
       "      <td>0.387516</td>\n",
       "      <td>0.392995</td>\n",
       "      <td>0.350609</td>\n",
       "      <td>0.422875</td>\n",
       "      <td>0.369724</td>\n",
       "      <td>1.000000</td>\n",
       "    </tr>\n",
       "  </tbody>\n",
       "</table>\n",
       "</div>"
      ],
      "text/plain": [
       "                  Year_Birth    Income   Kidhome  Teenhome   Recency  \\\n",
       "Year_Birth          1.000000 -0.161791  0.230176 -0.352111  0.022431   \n",
       "Income             -0.161791  1.000000 -0.428669  0.019133 -0.018531   \n",
       "Kidhome             0.230176 -0.428669  1.000000 -0.036133 -0.053343   \n",
       "Teenhome           -0.352111  0.019133 -0.036133  1.000000  0.017465   \n",
       "Recency             0.022431 -0.018531 -0.053343  0.017465  1.000000   \n",
       "Complain           -0.030128 -0.027225  0.040207  0.003138  0.033120   \n",
       "MntWines           -0.157773  0.578650 -0.496297  0.004846  0.166264   \n",
       "MntFruits          -0.017917  0.430842 -0.372581 -0.176764  0.066928   \n",
       "MntMeatProducts    -0.030872  0.584633 -0.437129 -0.261160  0.092713   \n",
       "MntFishProducts    -0.041625  0.438871 -0.387644 -0.204187  0.080769   \n",
       "MntSweetProducts   -0.018133  0.440744 -0.370673 -0.162475  0.081268   \n",
       "MntGoldProds       -0.061818  0.325916 -0.349595 -0.021725  0.159596   \n",
       "\n",
       "                  Complain  MntWines  MntFruits  MntMeatProducts  \\\n",
       "Year_Birth       -0.030128 -0.157773  -0.017917        -0.030872   \n",
       "Income           -0.027225  0.578650   0.430842         0.584633   \n",
       "Kidhome           0.040207 -0.496297  -0.372581        -0.437129   \n",
       "Teenhome          0.003138  0.004846  -0.176764        -0.261160   \n",
       "Recency           0.033120  0.166264   0.066928         0.092713   \n",
       "Complain          1.000000 -0.039007  -0.005166        -0.023483   \n",
       "MntWines         -0.039007  1.000000   0.389637         0.562667   \n",
       "MntFruits        -0.005166  0.389637   1.000000         0.543105   \n",
       "MntMeatProducts  -0.023483  0.562667   0.543105         1.000000   \n",
       "MntFishProducts  -0.020953  0.399753   0.594804         0.568402   \n",
       "MntSweetProducts -0.022485  0.386581   0.567164         0.523846   \n",
       "MntGoldProds     -0.030861  0.387516   0.392995         0.350609   \n",
       "\n",
       "                  MntFishProducts  MntSweetProducts  MntGoldProds  \n",
       "Year_Birth              -0.041625         -0.018133     -0.061818  \n",
       "Income                   0.438871          0.440744      0.325916  \n",
       "Kidhome                 -0.387644         -0.370673     -0.349595  \n",
       "Teenhome                -0.204187         -0.162475     -0.021725  \n",
       "Recency                  0.080769          0.081268      0.159596  \n",
       "Complain                -0.020953         -0.022485     -0.030861  \n",
       "MntWines                 0.399753          0.386581      0.387516  \n",
       "MntFruits                0.594804          0.567164      0.392995  \n",
       "MntMeatProducts          0.568402          0.523846      0.350609  \n",
       "MntFishProducts          1.000000          0.579870      0.422875  \n",
       "MntSweetProducts         0.579870          1.000000      0.369724  \n",
       "MntGoldProds             0.422875          0.369724      1.000000  "
      ]
     },
     "execution_count": 19,
     "metadata": {},
     "output_type": "execute_result"
    }
   ],
   "source": [
    "columns_of_interest = ['Year_Birth', 'Income', 'Kidhome', 'Teenhome', 'Recency', 'Complain', \n",
    "                       'MntWines', 'MntFruits', 'MntMeatProducts', 'MntFishProducts', \n",
    "                       'MntSweetProducts', 'MntGoldProds']\n",
    "correlation_matrix = df[columns_of_interest].corr()\n",
    "correlation_matrix"
   ]
  },
  {
   "cell_type": "code",
   "execution_count": 20,
   "id": "4c5df524",
   "metadata": {
    "execution": {
     "iopub.execute_input": "2024-03-15T23:02:45.465490Z",
     "iopub.status.busy": "2024-03-15T23:02:45.464354Z",
     "iopub.status.idle": "2024-03-15T23:02:46.303707Z",
     "shell.execute_reply": "2024-03-15T23:02:46.302568Z"
    },
    "papermill": {
     "duration": 0.949459,
     "end_time": "2024-03-15T23:02:46.306529",
     "exception": false,
     "start_time": "2024-03-15T23:02:45.357070",
     "status": "completed"
    },
    "tags": []
   },
   "outputs": [
    {
     "data": {
      "image/png": "[encoded data removed]",
      "text/plain": [
       "<Figure size 1200x1000 with 2 Axes>"
      ]
     },
     "metadata": {},
     "output_type": "display_data"
    }
   ],
   "source": [
    "plt.figure(figsize=(12, 10))\n",
    "sns.heatmap(correlation_matrix, annot=True, cmap='coolwarm', fmt=\".2f\")\n",
    "plt.show()"
   ]
  },
  {
   "cell_type": "code",
   "execution_count": 21,
   "id": "cc604b92",
   "metadata": {
    "execution": {
     "iopub.execute_input": "2024-03-15T23:02:46.363853Z",
     "iopub.status.busy": "2024-03-15T23:02:46.362655Z",
     "iopub.status.idle": "2024-03-15T23:02:53.499040Z",
     "shell.execute_reply": "2024-03-15T23:02:53.497553Z"
    },
    "papermill": {
     "duration": 7.16879,
     "end_time": "2024-03-15T23:02:53.502457",
     "exception": false,
     "start_time": "2024-03-15T23:02:46.333667",
     "status": "completed"
    },
    "tags": []
   },
   "outputs": [
    {
     "data": {
      "image/png": "[encoded data removed]",
      "text/plain": [
       "<Figure size 4000x2000 with 30 Axes>"
      ]
     },
     "metadata": {},
     "output_type": "display_data"
    }
   ],
   "source": [
    "df.hist(bins=30, figsize=(40, 20))\n",
    "plt.show()"
   ]
  },
  {
   "cell_type": "code",
   "execution_count": 22,
   "id": "bb0b0a6d",
   "metadata": {
    "execution": {
     "iopub.execute_input": "2024-03-15T23:02:53.565830Z",
     "iopub.status.busy": "2024-03-15T23:02:53.565310Z",
     "iopub.status.idle": "2024-03-15T23:02:53.572071Z",
     "shell.execute_reply": "2024-03-15T23:02:53.570770Z"
    },
    "papermill": {
     "duration": 0.042266,
     "end_time": "2024-03-15T23:02:53.575122",
     "exception": false,
     "start_time": "2024-03-15T23:02:53.532856",
     "status": "completed"
    },
    "tags": []
   },
   "outputs": [],
   "source": [
    "maxincome=df['Income'].std()*3"
   ]
  },
  {
   "cell_type": "code",
   "execution_count": 23,
   "id": "9c9d7e69",
   "metadata": {
    "execution": {
     "iopub.execute_input": "2024-03-15T23:02:53.639206Z",
     "iopub.status.busy": "2024-03-15T23:02:53.638721Z",
     "iopub.status.idle": "2024-03-15T23:02:53.671391Z",
     "shell.execute_reply": "2024-03-15T23:02:53.669968Z"
    },
    "papermill": {
     "duration": 0.06896,
     "end_time": "2024-03-15T23:02:53.674463",
     "exception": false,
     "start_time": "2024-03-15T23:02:53.605503",
     "status": "completed"
    },
    "tags": []
   },
   "outputs": [
    {
     "data": {
      "text/html": [
       "<div>\n",
       "<style scoped>\n",
       "    .dataframe tbody tr th:only-of-type {\n",
       "        vertical-align: middle;\n",
       "    }\n",
       "\n",
       "    .dataframe tbody tr th {\n",
       "        vertical-align: top;\n",
       "    }\n",
       "\n",
       "    .dataframe thead th {\n",
       "        text-align: right;\n",
       "    }\n",
       "</style>\n",
       "<table border=\"1\" class=\"dataframe\">\n",
       "  <thead>\n",
       "    <tr style=\"text-align: right;\">\n",
       "      <th></th>\n",
       "      <th>ID</th>\n",
       "      <th>Year_Birth</th>\n",
       "      <th>Education</th>\n",
       "      <th>Marital_Status</th>\n",
       "      <th>Income</th>\n",
       "      <th>Kidhome</th>\n",
       "      <th>Teenhome</th>\n",
       "      <th>Dt_Customer</th>\n",
       "      <th>Recency</th>\n",
       "      <th>MntWines</th>\n",
       "      <th>...</th>\n",
       "      <th>NumWebVisitsMonth</th>\n",
       "      <th>AcceptedCmp3</th>\n",
       "      <th>AcceptedCmp4</th>\n",
       "      <th>AcceptedCmp5</th>\n",
       "      <th>AcceptedCmp1</th>\n",
       "      <th>AcceptedCmp2</th>\n",
       "      <th>Complain</th>\n",
       "      <th>Z_CostContact</th>\n",
       "      <th>Z_Revenue</th>\n",
       "      <th>Response</th>\n",
       "    </tr>\n",
       "  </thead>\n",
       "  <tbody>\n",
       "    <tr>\n",
       "      <th>15</th>\n",
       "      <td>2114</td>\n",
       "      <td>1946</td>\n",
       "      <td>PhD</td>\n",
       "      <td>Single</td>\n",
       "      <td>82800.0</td>\n",
       "      <td>0</td>\n",
       "      <td>0</td>\n",
       "      <td>2012-11-24</td>\n",
       "      <td>4129</td>\n",
       "      <td>1006</td>\n",
       "      <td>...</td>\n",
       "      <td>3</td>\n",
       "      <td>0</td>\n",
       "      <td>0</td>\n",
       "      <td>1</td>\n",
       "      <td>1</td>\n",
       "      <td>0</td>\n",
       "      <td>0</td>\n",
       "      <td>3</td>\n",
       "      <td>11</td>\n",
       "      <td>1</td>\n",
       "    </tr>\n",
       "    <tr>\n",
       "      <th>29</th>\n",
       "      <td>1966</td>\n",
       "      <td>1965</td>\n",
       "      <td>PhD</td>\n",
       "      <td>Married</td>\n",
       "      <td>84618.0</td>\n",
       "      <td>0</td>\n",
       "      <td>0</td>\n",
       "      <td>2013-11-22</td>\n",
       "      <td>3766</td>\n",
       "      <td>684</td>\n",
       "      <td>...</td>\n",
       "      <td>2</td>\n",
       "      <td>0</td>\n",
       "      <td>0</td>\n",
       "      <td>1</td>\n",
       "      <td>0</td>\n",
       "      <td>0</td>\n",
       "      <td>0</td>\n",
       "      <td>3</td>\n",
       "      <td>11</td>\n",
       "      <td>0</td>\n",
       "    </tr>\n",
       "    <tr>\n",
       "      <th>53</th>\n",
       "      <td>2225</td>\n",
       "      <td>1977</td>\n",
       "      <td>Graduation</td>\n",
       "      <td>Divorced</td>\n",
       "      <td>82582.0</td>\n",
       "      <td>0</td>\n",
       "      <td>0</td>\n",
       "      <td>2014-06-07</td>\n",
       "      <td>3569</td>\n",
       "      <td>510</td>\n",
       "      <td>...</td>\n",
       "      <td>1</td>\n",
       "      <td>1</td>\n",
       "      <td>0</td>\n",
       "      <td>0</td>\n",
       "      <td>1</td>\n",
       "      <td>0</td>\n",
       "      <td>0</td>\n",
       "      <td>3</td>\n",
       "      <td>11</td>\n",
       "      <td>1</td>\n",
       "    </tr>\n",
       "    <tr>\n",
       "      <th>55</th>\n",
       "      <td>6260</td>\n",
       "      <td>1955</td>\n",
       "      <td>Master</td>\n",
       "      <td>Together</td>\n",
       "      <td>82384.0</td>\n",
       "      <td>0</td>\n",
       "      <td>0</td>\n",
       "      <td>2012-11-19</td>\n",
       "      <td>4134</td>\n",
       "      <td>984</td>\n",
       "      <td>...</td>\n",
       "      <td>1</td>\n",
       "      <td>0</td>\n",
       "      <td>0</td>\n",
       "      <td>1</td>\n",
       "      <td>0</td>\n",
       "      <td>0</td>\n",
       "      <td>0</td>\n",
       "      <td>3</td>\n",
       "      <td>11</td>\n",
       "      <td>1</td>\n",
       "    </tr>\n",
       "    <tr>\n",
       "      <th>67</th>\n",
       "      <td>9369</td>\n",
       "      <td>1979</td>\n",
       "      <td>2n Cycle</td>\n",
       "      <td>Single</td>\n",
       "      <td>88194.0</td>\n",
       "      <td>0</td>\n",
       "      <td>1</td>\n",
       "      <td>2014-03-19</td>\n",
       "      <td>3649</td>\n",
       "      <td>688</td>\n",
       "      <td>...</td>\n",
       "      <td>5</td>\n",
       "      <td>1</td>\n",
       "      <td>0</td>\n",
       "      <td>0</td>\n",
       "      <td>1</td>\n",
       "      <td>0</td>\n",
       "      <td>0</td>\n",
       "      <td>3</td>\n",
       "      <td>11</td>\n",
       "      <td>1</td>\n",
       "    </tr>\n",
       "    <tr>\n",
       "      <th>...</th>\n",
       "      <td>...</td>\n",
       "      <td>...</td>\n",
       "      <td>...</td>\n",
       "      <td>...</td>\n",
       "      <td>...</td>\n",
       "      <td>...</td>\n",
       "      <td>...</td>\n",
       "      <td>...</td>\n",
       "      <td>...</td>\n",
       "      <td>...</td>\n",
       "      <td>...</td>\n",
       "      <td>...</td>\n",
       "      <td>...</td>\n",
       "      <td>...</td>\n",
       "      <td>...</td>\n",
       "      <td>...</td>\n",
       "      <td>...</td>\n",
       "      <td>...</td>\n",
       "      <td>...</td>\n",
       "      <td>...</td>\n",
       "      <td>...</td>\n",
       "    </tr>\n",
       "    <tr>\n",
       "      <th>2193</th>\n",
       "      <td>8722</td>\n",
       "      <td>1957</td>\n",
       "      <td>2n Cycle</td>\n",
       "      <td>Married</td>\n",
       "      <td>82347.0</td>\n",
       "      <td>0</td>\n",
       "      <td>0</td>\n",
       "      <td>2012-11-06</td>\n",
       "      <td>4147</td>\n",
       "      <td>556</td>\n",
       "      <td>...</td>\n",
       "      <td>3</td>\n",
       "      <td>1</td>\n",
       "      <td>0</td>\n",
       "      <td>0</td>\n",
       "      <td>1</td>\n",
       "      <td>0</td>\n",
       "      <td>0</td>\n",
       "      <td>3</td>\n",
       "      <td>11</td>\n",
       "      <td>1</td>\n",
       "    </tr>\n",
       "    <tr>\n",
       "      <th>2211</th>\n",
       "      <td>10469</td>\n",
       "      <td>1981</td>\n",
       "      <td>Graduation</td>\n",
       "      <td>Together</td>\n",
       "      <td>88325.0</td>\n",
       "      <td>0</td>\n",
       "      <td>0</td>\n",
       "      <td>2014-02-05</td>\n",
       "      <td>3691</td>\n",
       "      <td>519</td>\n",
       "      <td>...</td>\n",
       "      <td>2</td>\n",
       "      <td>0</td>\n",
       "      <td>0</td>\n",
       "      <td>0</td>\n",
       "      <td>0</td>\n",
       "      <td>0</td>\n",
       "      <td>0</td>\n",
       "      <td>3</td>\n",
       "      <td>11</td>\n",
       "      <td>0</td>\n",
       "    </tr>\n",
       "    <tr>\n",
       "      <th>2213</th>\n",
       "      <td>3661</td>\n",
       "      <td>1995</td>\n",
       "      <td>2n Cycle</td>\n",
       "      <td>Single</td>\n",
       "      <td>80617.0</td>\n",
       "      <td>0</td>\n",
       "      <td>0</td>\n",
       "      <td>2012-10-12</td>\n",
       "      <td>4172</td>\n",
       "      <td>594</td>\n",
       "      <td>...</td>\n",
       "      <td>2</td>\n",
       "      <td>0</td>\n",
       "      <td>0</td>\n",
       "      <td>0</td>\n",
       "      <td>0</td>\n",
       "      <td>0</td>\n",
       "      <td>0</td>\n",
       "      <td>3</td>\n",
       "      <td>11</td>\n",
       "      <td>0</td>\n",
       "    </tr>\n",
       "    <tr>\n",
       "      <th>2217</th>\n",
       "      <td>9589</td>\n",
       "      <td>1948</td>\n",
       "      <td>PhD</td>\n",
       "      <td>Widow</td>\n",
       "      <td>82032.0</td>\n",
       "      <td>0</td>\n",
       "      <td>0</td>\n",
       "      <td>2014-04-05</td>\n",
       "      <td>3632</td>\n",
       "      <td>332</td>\n",
       "      <td>...</td>\n",
       "      <td>1</td>\n",
       "      <td>0</td>\n",
       "      <td>0</td>\n",
       "      <td>0</td>\n",
       "      <td>0</td>\n",
       "      <td>0</td>\n",
       "      <td>0</td>\n",
       "      <td>3</td>\n",
       "      <td>11</td>\n",
       "      <td>0</td>\n",
       "    </tr>\n",
       "    <tr>\n",
       "      <th>2233</th>\n",
       "      <td>9432</td>\n",
       "      <td>1977</td>\n",
       "      <td>Graduation</td>\n",
       "      <td>Together</td>\n",
       "      <td>666666.0</td>\n",
       "      <td>1</td>\n",
       "      <td>0</td>\n",
       "      <td>2013-06-02</td>\n",
       "      <td>3939</td>\n",
       "      <td>9</td>\n",
       "      <td>...</td>\n",
       "      <td>6</td>\n",
       "      <td>0</td>\n",
       "      <td>0</td>\n",
       "      <td>0</td>\n",
       "      <td>0</td>\n",
       "      <td>0</td>\n",
       "      <td>0</td>\n",
       "      <td>3</td>\n",
       "      <td>11</td>\n",
       "      <td>0</td>\n",
       "    </tr>\n",
       "  </tbody>\n",
       "</table>\n",
       "<p>201 rows × 29 columns</p>\n",
       "</div>"
      ],
      "text/plain": [
       "         ID  Year_Birth   Education Marital_Status    Income  Kidhome  \\\n",
       "15     2114        1946         PhD         Single   82800.0        0   \n",
       "29     1966        1965         PhD        Married   84618.0        0   \n",
       "53     2225        1977  Graduation       Divorced   82582.0        0   \n",
       "55     6260        1955      Master       Together   82384.0        0   \n",
       "67     9369        1979    2n Cycle         Single   88194.0        0   \n",
       "...     ...         ...         ...            ...       ...      ...   \n",
       "2193   8722        1957    2n Cycle        Married   82347.0        0   \n",
       "2211  10469        1981  Graduation       Together   88325.0        0   \n",
       "2213   3661        1995    2n Cycle         Single   80617.0        0   \n",
       "2217   9589        1948         PhD          Widow   82032.0        0   \n",
       "2233   9432        1977  Graduation       Together  666666.0        1   \n",
       "\n",
       "      Teenhome Dt_Customer  Recency  MntWines  ...  NumWebVisitsMonth  \\\n",
       "15           0  2012-11-24     4129      1006  ...                  3   \n",
       "29           0  2013-11-22     3766       684  ...                  2   \n",
       "53           0  2014-06-07     3569       510  ...                  1   \n",
       "55           0  2012-11-19     4134       984  ...                  1   \n",
       "67           1  2014-03-19     3649       688  ...                  5   \n",
       "...        ...         ...      ...       ...  ...                ...   \n",
       "2193         0  2012-11-06     4147       556  ...                  3   \n",
       "2211         0  2014-02-05     3691       519  ...                  2   \n",
       "2213         0  2012-10-12     4172       594  ...                  2   \n",
       "2217         0  2014-04-05     3632       332  ...                  1   \n",
       "2233         0  2013-06-02     3939         9  ...                  6   \n",
       "\n",
       "      AcceptedCmp3  AcceptedCmp4  AcceptedCmp5  AcceptedCmp1  AcceptedCmp2  \\\n",
       "15               0             0             1             1             0   \n",
       "29               0             0             1             0             0   \n",
       "53               1             0             0             1             0   \n",
       "55               0             0             1             0             0   \n",
       "67               1             0             0             1             0   \n",
       "...            ...           ...           ...           ...           ...   \n",
       "2193             1             0             0             1             0   \n",
       "2211             0             0             0             0             0   \n",
       "2213             0             0             0             0             0   \n",
       "2217             0             0             0             0             0   \n",
       "2233             0             0             0             0             0   \n",
       "\n",
       "      Complain  Z_CostContact  Z_Revenue  Response  \n",
       "15           0              3         11         1  \n",
       "29           0              3         11         0  \n",
       "53           0              3         11         1  \n",
       "55           0              3         11         1  \n",
       "67           0              3         11         1  \n",
       "...        ...            ...        ...       ...  \n",
       "2193         0              3         11         1  \n",
       "2211         0              3         11         0  \n",
       "2213         0              3         11         0  \n",
       "2217         0              3         11         0  \n",
       "2233         0              3         11         0  \n",
       "\n",
       "[201 rows x 29 columns]"
      ]
     },
     "execution_count": 23,
     "metadata": {},
     "output_type": "execute_result"
    }
   ],
   "source": [
    "df[df['Income']>maxincome +5000]"
   ]
  },
  {
   "cell_type": "code",
   "execution_count": 24,
   "id": "ef377f96",
   "metadata": {
    "execution": {
     "iopub.execute_input": "2024-03-15T23:02:53.740079Z",
     "iopub.status.busy": "2024-03-15T23:02:53.739230Z",
     "iopub.status.idle": "2024-03-15T23:02:53.744765Z",
     "shell.execute_reply": "2024-03-15T23:02:53.743590Z"
    },
    "papermill": {
     "duration": 0.040825,
     "end_time": "2024-03-15T23:02:53.747212",
     "exception": false,
     "start_time": "2024-03-15T23:02:53.706387",
     "status": "completed"
    },
    "tags": []
   },
   "outputs": [],
   "source": [
    "amounts=df.columns.tolist()[9:15]"
   ]
  },
  {
   "cell_type": "code",
   "execution_count": 25,
   "id": "91cc893b",
   "metadata": {
    "execution": {
     "iopub.execute_input": "2024-03-15T23:02:53.813046Z",
     "iopub.status.busy": "2024-03-15T23:02:53.812578Z",
     "iopub.status.idle": "2024-03-15T23:02:53.824201Z",
     "shell.execute_reply": "2024-03-15T23:02:53.822693Z"
    },
    "papermill": {
     "duration": 0.048936,
     "end_time": "2024-03-15T23:02:53.826772",
     "exception": false,
     "start_time": "2024-03-15T23:02:53.777836",
     "status": "completed"
    },
    "tags": []
   },
   "outputs": [
    {
     "data": {
      "text/plain": [
       "MntWines            680816\n",
       "MntFruits            58917\n",
       "MntMeatProducts     373968\n",
       "MntFishProducts      84057\n",
       "MntSweetProducts     60621\n",
       "MntGoldProds         98609\n",
       "dtype: int64"
      ]
     },
     "execution_count": 25,
     "metadata": {},
     "output_type": "execute_result"
    }
   ],
   "source": [
    "df[amounts].sum()"
   ]
  },
  {
   "cell_type": "code",
   "execution_count": 26,
   "id": "25f65c56",
   "metadata": {
    "execution": {
     "iopub.execute_input": "2024-03-15T23:02:53.894137Z",
     "iopub.status.busy": "2024-03-15T23:02:53.893661Z",
     "iopub.status.idle": "2024-03-15T23:02:53.905101Z",
     "shell.execute_reply": "2024-03-15T23:02:53.904267Z"
    },
    "papermill": {
     "duration": 0.046702,
     "end_time": "2024-03-15T23:02:53.907388",
     "exception": false,
     "start_time": "2024-03-15T23:02:53.860686",
     "status": "completed"
    },
    "tags": []
   },
   "outputs": [
    {
     "data": {
      "text/plain": [
       "Response\n",
       "0    1906\n",
       "1     334\n",
       "Name: count, dtype: int64"
      ]
     },
     "execution_count": 26,
     "metadata": {},
     "output_type": "execute_result"
    }
   ],
   "source": [
    "df.Response.value_counts()"
   ]
  },
  {
   "cell_type": "code",
   "execution_count": 27,
   "id": "a79e9fd4",
   "metadata": {
    "execution": {
     "iopub.execute_input": "2024-03-15T23:02:53.972909Z",
     "iopub.status.busy": "2024-03-15T23:02:53.972456Z",
     "iopub.status.idle": "2024-03-15T23:02:53.982792Z",
     "shell.execute_reply": "2024-03-15T23:02:53.981602Z"
    },
    "papermill": {
     "duration": 0.046686,
     "end_time": "2024-03-15T23:02:53.985188",
     "exception": false,
     "start_time": "2024-03-15T23:02:53.938502",
     "status": "completed"
    },
    "tags": []
   },
   "outputs": [
    {
     "data": {
      "text/plain": [
       "AcceptedCmp3    163\n",
       "AcceptedCmp4    167\n",
       "AcceptedCmp5    163\n",
       "AcceptedCmp1    144\n",
       "AcceptedCmp2     30\n",
       "dtype: int64"
      ]
     },
     "execution_count": 27,
     "metadata": {},
     "output_type": "execute_result"
    }
   ],
   "source": [
    "coupons=df.columns.tolist()[20:25]\n",
    "df[coupons].sum()"
   ]
  },
  {
   "cell_type": "code",
   "execution_count": 28,
   "id": "c86d2ad7",
   "metadata": {
    "execution": {
     "iopub.execute_input": "2024-03-15T23:02:54.050588Z",
     "iopub.status.busy": "2024-03-15T23:02:54.050085Z",
     "iopub.status.idle": "2024-03-15T23:02:54.059847Z",
     "shell.execute_reply": "2024-03-15T23:02:54.058871Z"
    },
    "papermill": {
     "duration": 0.046115,
     "end_time": "2024-03-15T23:02:54.062593",
     "exception": false,
     "start_time": "2024-03-15T23:02:54.016478",
     "status": "completed"
    },
    "tags": []
   },
   "outputs": [
    {
     "data": {
      "text/plain": [
       "AcceptedCmp3\n",
       "0    2077\n",
       "1     163\n",
       "Name: count, dtype: int64"
      ]
     },
     "execution_count": 28,
     "metadata": {},
     "output_type": "execute_result"
    }
   ],
   "source": [
    "df['AcceptedCmp3'].value_counts()"
   ]
  },
  {
   "cell_type": "code",
   "execution_count": 29,
   "id": "741edf45",
   "metadata": {
    "execution": {
     "iopub.execute_input": "2024-03-15T23:02:54.128201Z",
     "iopub.status.busy": "2024-03-15T23:02:54.127710Z",
     "iopub.status.idle": "2024-03-15T23:02:54.137880Z",
     "shell.execute_reply": "2024-03-15T23:02:54.136886Z"
    },
    "papermill": {
     "duration": 0.046095,
     "end_time": "2024-03-15T23:02:54.140509",
     "exception": false,
     "start_time": "2024-03-15T23:02:54.094414",
     "status": "completed"
    },
    "tags": []
   },
   "outputs": [
    {
     "data": {
      "text/plain": [
       "NumCatalogPurchases\n",
       "0     586\n",
       "1     497\n",
       "2     276\n",
       "3     184\n",
       "4     182\n",
       "5     140\n",
       "6     128\n",
       "7      79\n",
       "8      55\n",
       "10     48\n",
       "9      42\n",
       "11     19\n",
       "28      3\n",
       "22      1\n",
       "Name: count, dtype: int64"
      ]
     },
     "execution_count": 29,
     "metadata": {},
     "output_type": "execute_result"
    }
   ],
   "source": [
    "df['NumCatalogPurchases'].value_counts()"
   ]
  },
  {
   "cell_type": "code",
   "execution_count": 30,
   "id": "4c053f85",
   "metadata": {
    "execution": {
     "iopub.execute_input": "2024-03-15T23:02:54.206373Z",
     "iopub.status.busy": "2024-03-15T23:02:54.205865Z",
     "iopub.status.idle": "2024-03-15T23:02:54.556208Z",
     "shell.execute_reply": "2024-03-15T23:02:54.554834Z"
    },
    "papermill": {
     "duration": 0.386359,
     "end_time": "2024-03-15T23:02:54.559105",
     "exception": false,
     "start_time": "2024-03-15T23:02:54.172746",
     "status": "completed"
    },
    "tags": []
   },
   "outputs": [
    {
     "data": {
      "text/plain": [
       "<Axes: xlabel='NumCatalogPurchases'>"
      ]
     },
     "execution_count": 30,
     "metadata": {},
     "output_type": "execute_result"
    },
    {
     "data": {
      "image/png": "[encoded data removed]",
      "text/plain": [
       "<Figure size 640x480 with 1 Axes>"
      ]
     },
     "metadata": {},
     "output_type": "display_data"
    }
   ],
   "source": [
    "df['NumCatalogPurchases'].value_counts().plot(kind='bar')"
   ]
  },
  {
   "cell_type": "code",
   "execution_count": 31,
   "id": "51d3cf98",
   "metadata": {
    "execution": {
     "iopub.execute_input": "2024-03-15T23:02:54.627761Z",
     "iopub.status.busy": "2024-03-15T23:02:54.626957Z",
     "iopub.status.idle": "2024-03-15T23:02:54.641845Z",
     "shell.execute_reply": "2024-03-15T23:02:54.640618Z"
    },
    "papermill": {
     "duration": 0.051848,
     "end_time": "2024-03-15T23:02:54.644593",
     "exception": false,
     "start_time": "2024-03-15T23:02:54.592745",
     "status": "completed"
    },
    "tags": []
   },
   "outputs": [
    {
     "data": {
      "text/html": [
       "<div>\n",
       "<style scoped>\n",
       "    .dataframe tbody tr th:only-of-type {\n",
       "        vertical-align: middle;\n",
       "    }\n",
       "\n",
       "    .dataframe tbody tr th {\n",
       "        vertical-align: top;\n",
       "    }\n",
       "\n",
       "    .dataframe thead th {\n",
       "        text-align: right;\n",
       "    }\n",
       "</style>\n",
       "<table border=\"1\" class=\"dataframe\">\n",
       "  <thead>\n",
       "    <tr style=\"text-align: right;\">\n",
       "      <th></th>\n",
       "      <th>NumWebPurchases</th>\n",
       "      <th>NumCatalogPurchases</th>\n",
       "      <th>NumStorePurchases</th>\n",
       "    </tr>\n",
       "  </thead>\n",
       "  <tbody>\n",
       "    <tr>\n",
       "      <th>0</th>\n",
       "      <td>8</td>\n",
       "      <td>10</td>\n",
       "      <td>4</td>\n",
       "    </tr>\n",
       "    <tr>\n",
       "      <th>1</th>\n",
       "      <td>1</td>\n",
       "      <td>1</td>\n",
       "      <td>2</td>\n",
       "    </tr>\n",
       "    <tr>\n",
       "      <th>2</th>\n",
       "      <td>8</td>\n",
       "      <td>2</td>\n",
       "      <td>10</td>\n",
       "    </tr>\n",
       "    <tr>\n",
       "      <th>3</th>\n",
       "      <td>2</td>\n",
       "      <td>0</td>\n",
       "      <td>4</td>\n",
       "    </tr>\n",
       "    <tr>\n",
       "      <th>4</th>\n",
       "      <td>5</td>\n",
       "      <td>3</td>\n",
       "      <td>6</td>\n",
       "    </tr>\n",
       "    <tr>\n",
       "      <th>...</th>\n",
       "      <td>...</td>\n",
       "      <td>...</td>\n",
       "      <td>...</td>\n",
       "    </tr>\n",
       "    <tr>\n",
       "      <th>2235</th>\n",
       "      <td>9</td>\n",
       "      <td>3</td>\n",
       "      <td>4</td>\n",
       "    </tr>\n",
       "    <tr>\n",
       "      <th>2236</th>\n",
       "      <td>8</td>\n",
       "      <td>2</td>\n",
       "      <td>5</td>\n",
       "    </tr>\n",
       "    <tr>\n",
       "      <th>2237</th>\n",
       "      <td>2</td>\n",
       "      <td>3</td>\n",
       "      <td>13</td>\n",
       "    </tr>\n",
       "    <tr>\n",
       "      <th>2238</th>\n",
       "      <td>6</td>\n",
       "      <td>5</td>\n",
       "      <td>10</td>\n",
       "    </tr>\n",
       "    <tr>\n",
       "      <th>2239</th>\n",
       "      <td>3</td>\n",
       "      <td>1</td>\n",
       "      <td>4</td>\n",
       "    </tr>\n",
       "  </tbody>\n",
       "</table>\n",
       "<p>2240 rows × 3 columns</p>\n",
       "</div>"
      ],
      "text/plain": [
       "      NumWebPurchases  NumCatalogPurchases  NumStorePurchases\n",
       "0                   8                   10                  4\n",
       "1                   1                    1                  2\n",
       "2                   8                    2                 10\n",
       "3                   2                    0                  4\n",
       "4                   5                    3                  6\n",
       "...               ...                  ...                ...\n",
       "2235                9                    3                  4\n",
       "2236                8                    2                  5\n",
       "2237                2                    3                 13\n",
       "2238                6                    5                 10\n",
       "2239                3                    1                  4\n",
       "\n",
       "[2240 rows x 3 columns]"
      ]
     },
     "execution_count": 31,
     "metadata": {},
     "output_type": "execute_result"
    }
   ],
   "source": [
    "visits=df.columns.tolist()[16:19]\n",
    "df[visits]"
   ]
  },
  {
   "cell_type": "code",
   "execution_count": 32,
   "id": "461c3bb6",
   "metadata": {
    "execution": {
     "iopub.execute_input": "2024-03-15T23:02:54.716269Z",
     "iopub.status.busy": "2024-03-15T23:02:54.715310Z",
     "iopub.status.idle": "2024-03-15T23:02:55.011040Z",
     "shell.execute_reply": "2024-03-15T23:02:55.009543Z"
    },
    "papermill": {
     "duration": 0.339605,
     "end_time": "2024-03-15T23:02:55.017862",
     "exception": false,
     "start_time": "2024-03-15T23:02:54.678257",
     "status": "completed"
    },
    "tags": []
   },
   "outputs": [
    {
     "data": {
      "text/plain": [
       "<Axes: >"
      ]
     },
     "execution_count": 32,
     "metadata": {},
     "output_type": "execute_result"
    },
    {
     "data": {
      "image/png": "[encoded data removed]",
      "text/plain": [
       "<Figure size 640x480 with 1 Axes>"
      ]
     },
     "metadata": {},
     "output_type": "display_data"
    }
   ],
   "source": [
    "df[visits].sum().plot(kind='bar')"
   ]
  },
  {
   "cell_type": "code",
   "execution_count": 33,
   "id": "f9f3c280",
   "metadata": {
    "execution": {
     "iopub.execute_input": "2024-03-15T23:02:55.118285Z",
     "iopub.status.busy": "2024-03-15T23:02:55.117834Z",
     "iopub.status.idle": "2024-03-15T23:02:55.218902Z",
     "shell.execute_reply": "2024-03-15T23:02:55.217549Z"
    },
    "papermill": {
     "duration": 0.15448,
     "end_time": "2024-03-15T23:02:55.222064",
     "exception": false,
     "start_time": "2024-03-15T23:02:55.067584",
     "status": "completed"
    },
    "tags": []
   },
   "outputs": [
    {
     "data": {
      "text/html": [
       "<div>\n",
       "<style scoped>\n",
       "    .dataframe tbody tr th:only-of-type {\n",
       "        vertical-align: middle;\n",
       "    }\n",
       "\n",
       "    .dataframe tbody tr th {\n",
       "        vertical-align: top;\n",
       "    }\n",
       "\n",
       "    .dataframe thead th {\n",
       "        text-align: right;\n",
       "    }\n",
       "</style>\n",
       "<table border=\"1\" class=\"dataframe\">\n",
       "  <thead>\n",
       "    <tr style=\"text-align: right;\">\n",
       "      <th>Income</th>\n",
       "      <th>1730.0</th>\n",
       "      <th>2447.0</th>\n",
       "      <th>3502.0</th>\n",
       "      <th>4023.0</th>\n",
       "      <th>4428.0</th>\n",
       "      <th>4861.0</th>\n",
       "      <th>5305.0</th>\n",
       "      <th>5648.0</th>\n",
       "      <th>6560.0</th>\n",
       "      <th>6835.0</th>\n",
       "      <th>...</th>\n",
       "      <th>105471.0</th>\n",
       "      <th>113734.0</th>\n",
       "      <th>153924.0</th>\n",
       "      <th>156924.0</th>\n",
       "      <th>157146.0</th>\n",
       "      <th>157243.0</th>\n",
       "      <th>157733.0</th>\n",
       "      <th>160803.0</th>\n",
       "      <th>162397.0</th>\n",
       "      <th>666666.0</th>\n",
       "    </tr>\n",
       "    <tr>\n",
       "      <th>Education</th>\n",
       "      <th></th>\n",
       "      <th></th>\n",
       "      <th></th>\n",
       "      <th></th>\n",
       "      <th></th>\n",
       "      <th></th>\n",
       "      <th></th>\n",
       "      <th></th>\n",
       "      <th></th>\n",
       "      <th></th>\n",
       "      <th></th>\n",
       "      <th></th>\n",
       "      <th></th>\n",
       "      <th></th>\n",
       "      <th></th>\n",
       "      <th></th>\n",
       "      <th></th>\n",
       "      <th></th>\n",
       "      <th></th>\n",
       "      <th></th>\n",
       "      <th></th>\n",
       "    </tr>\n",
       "  </thead>\n",
       "  <tbody>\n",
       "    <tr>\n",
       "      <th>2n Cycle</th>\n",
       "      <td>0</td>\n",
       "      <td>0</td>\n",
       "      <td>0</td>\n",
       "      <td>0</td>\n",
       "      <td>0</td>\n",
       "      <td>0</td>\n",
       "      <td>0</td>\n",
       "      <td>0</td>\n",
       "      <td>0</td>\n",
       "      <td>0</td>\n",
       "      <td>...</td>\n",
       "      <td>0</td>\n",
       "      <td>0</td>\n",
       "      <td>0</td>\n",
       "      <td>0</td>\n",
       "      <td>0</td>\n",
       "      <td>0</td>\n",
       "      <td>0</td>\n",
       "      <td>0</td>\n",
       "      <td>0</td>\n",
       "      <td>0</td>\n",
       "    </tr>\n",
       "    <tr>\n",
       "      <th>Basic</th>\n",
       "      <td>0</td>\n",
       "      <td>0</td>\n",
       "      <td>0</td>\n",
       "      <td>0</td>\n",
       "      <td>0</td>\n",
       "      <td>0</td>\n",
       "      <td>0</td>\n",
       "      <td>0</td>\n",
       "      <td>0</td>\n",
       "      <td>0</td>\n",
       "      <td>...</td>\n",
       "      <td>0</td>\n",
       "      <td>0</td>\n",
       "      <td>0</td>\n",
       "      <td>0</td>\n",
       "      <td>0</td>\n",
       "      <td>0</td>\n",
       "      <td>0</td>\n",
       "      <td>0</td>\n",
       "      <td>0</td>\n",
       "      <td>0</td>\n",
       "    </tr>\n",
       "    <tr>\n",
       "      <th>Graduation</th>\n",
       "      <td>1</td>\n",
       "      <td>1</td>\n",
       "      <td>1</td>\n",
       "      <td>0</td>\n",
       "      <td>1</td>\n",
       "      <td>1</td>\n",
       "      <td>1</td>\n",
       "      <td>0</td>\n",
       "      <td>0</td>\n",
       "      <td>0</td>\n",
       "      <td>...</td>\n",
       "      <td>1</td>\n",
       "      <td>0</td>\n",
       "      <td>1</td>\n",
       "      <td>0</td>\n",
       "      <td>1</td>\n",
       "      <td>0</td>\n",
       "      <td>0</td>\n",
       "      <td>0</td>\n",
       "      <td>0</td>\n",
       "      <td>1</td>\n",
       "    </tr>\n",
       "    <tr>\n",
       "      <th>Master</th>\n",
       "      <td>0</td>\n",
       "      <td>0</td>\n",
       "      <td>0</td>\n",
       "      <td>0</td>\n",
       "      <td>0</td>\n",
       "      <td>0</td>\n",
       "      <td>0</td>\n",
       "      <td>0</td>\n",
       "      <td>1</td>\n",
       "      <td>0</td>\n",
       "      <td>...</td>\n",
       "      <td>0</td>\n",
       "      <td>0</td>\n",
       "      <td>0</td>\n",
       "      <td>0</td>\n",
       "      <td>0</td>\n",
       "      <td>0</td>\n",
       "      <td>1</td>\n",
       "      <td>0</td>\n",
       "      <td>0</td>\n",
       "      <td>0</td>\n",
       "    </tr>\n",
       "    <tr>\n",
       "      <th>PhD</th>\n",
       "      <td>0</td>\n",
       "      <td>0</td>\n",
       "      <td>0</td>\n",
       "      <td>1</td>\n",
       "      <td>0</td>\n",
       "      <td>0</td>\n",
       "      <td>0</td>\n",
       "      <td>1</td>\n",
       "      <td>0</td>\n",
       "      <td>1</td>\n",
       "      <td>...</td>\n",
       "      <td>0</td>\n",
       "      <td>1</td>\n",
       "      <td>0</td>\n",
       "      <td>1</td>\n",
       "      <td>0</td>\n",
       "      <td>1</td>\n",
       "      <td>0</td>\n",
       "      <td>1</td>\n",
       "      <td>1</td>\n",
       "      <td>0</td>\n",
       "    </tr>\n",
       "  </tbody>\n",
       "</table>\n",
       "<p>5 rows × 1974 columns</p>\n",
       "</div>"
      ],
      "text/plain": [
       "Income      1730.0    2447.0    3502.0    4023.0    4428.0    4861.0    \\\n",
       "Education                                                                \n",
       "2n Cycle           0         0         0         0         0         0   \n",
       "Basic              0         0         0         0         0         0   \n",
       "Graduation         1         1         1         0         1         1   \n",
       "Master             0         0         0         0         0         0   \n",
       "PhD                0         0         0         1         0         0   \n",
       "\n",
       "Income      5305.0    5648.0    6560.0    6835.0    ...  105471.0  113734.0  \\\n",
       "Education                                           ...                       \n",
       "2n Cycle           0         0         0         0  ...         0         0   \n",
       "Basic              0         0         0         0  ...         0         0   \n",
       "Graduation         1         0         0         0  ...         1         0   \n",
       "Master             0         0         1         0  ...         0         0   \n",
       "PhD                0         1         0         1  ...         0         1   \n",
       "\n",
       "Income      153924.0  156924.0  157146.0  157243.0  157733.0  160803.0  \\\n",
       "Education                                                                \n",
       "2n Cycle           0         0         0         0         0         0   \n",
       "Basic              0         0         0         0         0         0   \n",
       "Graduation         1         0         1         0         0         0   \n",
       "Master             0         0         0         0         1         0   \n",
       "PhD                0         1         0         1         0         1   \n",
       "\n",
       "Income      162397.0  666666.0  \n",
       "Education                       \n",
       "2n Cycle           0         0  \n",
       "Basic              0         0  \n",
       "Graduation         0         1  \n",
       "Master             0         0  \n",
       "PhD                1         0  \n",
       "\n",
       "[5 rows x 1974 columns]"
      ]
     },
     "execution_count": 33,
     "metadata": {},
     "output_type": "execute_result"
    }
   ],
   "source": [
    "pd.crosstab(df.Education, df.Income)"
   ]
  },
  {
   "cell_type": "code",
   "execution_count": 34,
   "id": "07d959b9",
   "metadata": {
    "execution": {
     "iopub.execute_input": "2024-03-15T23:02:55.299958Z",
     "iopub.status.busy": "2024-03-15T23:02:55.299333Z",
     "iopub.status.idle": "2024-03-15T23:02:55.625198Z",
     "shell.execute_reply": "2024-03-15T23:02:55.623894Z"
    },
    "papermill": {
     "duration": 0.364575,
     "end_time": "2024-03-15T23:02:55.627988",
     "exception": false,
     "start_time": "2024-03-15T23:02:55.263413",
     "status": "completed"
    },
    "tags": []
   },
   "outputs": [
    {
     "data": {
      "text/plain": [
       "count       443.200000\n",
       "mean      45944.534218\n",
       "min        5462.600000\n",
       "25%       31195.450000\n",
       "50%       45146.500000\n",
       "75%       59205.950000\n",
       "max      223557.600000\n",
       "std       19460.421864\n",
       "dtype: float64"
      ]
     },
     "execution_count": 34,
     "metadata": {},
     "output_type": "execute_result"
    }
   ],
   "source": [
    "df.groupby(\"Education\").describe()[\"Income\"].mean()"
   ]
  },
  {
   "cell_type": "code",
   "execution_count": 35,
   "id": "accf7d05",
   "metadata": {
    "execution": {
     "iopub.execute_input": "2024-03-15T23:02:55.699784Z",
     "iopub.status.busy": "2024-03-15T23:02:55.698314Z",
     "iopub.status.idle": "2024-03-15T23:02:55.709791Z",
     "shell.execute_reply": "2024-03-15T23:02:55.708507Z"
    },
    "papermill": {
     "duration": 0.050436,
     "end_time": "2024-03-15T23:02:55.712401",
     "exception": false,
     "start_time": "2024-03-15T23:02:55.661965",
     "status": "completed"
    },
    "tags": []
   },
   "outputs": [
    {
     "data": {
      "text/plain": [
       "Education\n",
       "2n Cycle      47633.190000\n",
       "Basic         20306.259259\n",
       "Graduation    52720.373656\n",
       "Master        52917.534247\n",
       "PhD           56145.313929\n",
       "Name: Income, dtype: float64"
      ]
     },
     "execution_count": 35,
     "metadata": {},
     "output_type": "execute_result"
    }
   ],
   "source": [
    "df.groupby(\"Education\")[\"Income\"].mean()"
   ]
  },
  {
   "cell_type": "code",
   "execution_count": 36,
   "id": "4d24357c",
   "metadata": {
    "execution": {
     "iopub.execute_input": "2024-03-15T23:02:55.783391Z",
     "iopub.status.busy": "2024-03-15T23:02:55.782367Z",
     "iopub.status.idle": "2024-03-15T23:02:55.793536Z",
     "shell.execute_reply": "2024-03-15T23:02:55.792244Z"
    },
    "papermill": {
     "duration": 0.049404,
     "end_time": "2024-03-15T23:02:55.796062",
     "exception": false,
     "start_time": "2024-03-15T23:02:55.746658",
     "status": "completed"
    },
    "tags": []
   },
   "outputs": [
    {
     "data": {
      "text/plain": [
       "Marital_Status\n",
       "Absurd      72365.500000\n",
       "Alone       43789.000000\n",
       "Divorced    52834.228448\n",
       "Married     51724.978996\n",
       "Single      50995.350318\n",
       "Together    53245.534031\n",
       "Widow       56481.552632\n",
       "YOLO        48432.000000\n",
       "Name: Income, dtype: float64"
      ]
     },
     "execution_count": 36,
     "metadata": {},
     "output_type": "execute_result"
    }
   ],
   "source": [
    "df.groupby(\"Marital_Status\")[\"Income\"].mean()"
   ]
  },
  {
   "cell_type": "code",
   "execution_count": 37,
   "id": "0d1dd2dd",
   "metadata": {
    "execution": {
     "iopub.execute_input": "2024-03-15T23:02:55.871809Z",
     "iopub.status.busy": "2024-03-15T23:02:55.870052Z",
     "iopub.status.idle": "2024-03-15T23:02:55.948413Z",
     "shell.execute_reply": "2024-03-15T23:02:55.947154Z"
    },
    "papermill": {
     "duration": 0.119453,
     "end_time": "2024-03-15T23:02:55.951306",
     "exception": false,
     "start_time": "2024-03-15T23:02:55.831853",
     "status": "completed"
    },
    "tags": []
   },
   "outputs": [
    {
     "data": {
      "text/html": [
       "<div>\n",
       "<style scoped>\n",
       "    .dataframe tbody tr th:only-of-type {\n",
       "        vertical-align: middle;\n",
       "    }\n",
       "\n",
       "    .dataframe tbody tr th {\n",
       "        vertical-align: top;\n",
       "    }\n",
       "\n",
       "    .dataframe thead th {\n",
       "        text-align: right;\n",
       "    }\n",
       "</style>\n",
       "<table border=\"1\" class=\"dataframe\">\n",
       "  <thead>\n",
       "    <tr style=\"text-align: right;\">\n",
       "      <th>Teenhome</th>\n",
       "      <th>0</th>\n",
       "      <th>1</th>\n",
       "      <th>2</th>\n",
       "    </tr>\n",
       "    <tr>\n",
       "      <th>Income</th>\n",
       "      <th></th>\n",
       "      <th></th>\n",
       "      <th></th>\n",
       "    </tr>\n",
       "  </thead>\n",
       "  <tbody>\n",
       "    <tr>\n",
       "      <th>1730.0</th>\n",
       "      <td>1</td>\n",
       "      <td>0</td>\n",
       "      <td>0</td>\n",
       "    </tr>\n",
       "    <tr>\n",
       "      <th>2447.0</th>\n",
       "      <td>1</td>\n",
       "      <td>0</td>\n",
       "      <td>0</td>\n",
       "    </tr>\n",
       "    <tr>\n",
       "      <th>3502.0</th>\n",
       "      <td>1</td>\n",
       "      <td>0</td>\n",
       "      <td>0</td>\n",
       "    </tr>\n",
       "    <tr>\n",
       "      <th>4023.0</th>\n",
       "      <td>0</td>\n",
       "      <td>1</td>\n",
       "      <td>0</td>\n",
       "    </tr>\n",
       "    <tr>\n",
       "      <th>4428.0</th>\n",
       "      <td>0</td>\n",
       "      <td>1</td>\n",
       "      <td>0</td>\n",
       "    </tr>\n",
       "    <tr>\n",
       "      <th>...</th>\n",
       "      <td>...</td>\n",
       "      <td>...</td>\n",
       "      <td>...</td>\n",
       "    </tr>\n",
       "    <tr>\n",
       "      <th>157243.0</th>\n",
       "      <td>0</td>\n",
       "      <td>1</td>\n",
       "      <td>0</td>\n",
       "    </tr>\n",
       "    <tr>\n",
       "      <th>157733.0</th>\n",
       "      <td>1</td>\n",
       "      <td>0</td>\n",
       "      <td>0</td>\n",
       "    </tr>\n",
       "    <tr>\n",
       "      <th>160803.0</th>\n",
       "      <td>1</td>\n",
       "      <td>0</td>\n",
       "      <td>0</td>\n",
       "    </tr>\n",
       "    <tr>\n",
       "      <th>162397.0</th>\n",
       "      <td>0</td>\n",
       "      <td>1</td>\n",
       "      <td>0</td>\n",
       "    </tr>\n",
       "    <tr>\n",
       "      <th>666666.0</th>\n",
       "      <td>1</td>\n",
       "      <td>0</td>\n",
       "      <td>0</td>\n",
       "    </tr>\n",
       "  </tbody>\n",
       "</table>\n",
       "<p>1974 rows × 3 columns</p>\n",
       "</div>"
      ],
      "text/plain": [
       "Teenhome  0  1  2\n",
       "Income           \n",
       "1730.0    1  0  0\n",
       "2447.0    1  0  0\n",
       "3502.0    1  0  0\n",
       "4023.0    0  1  0\n",
       "4428.0    0  1  0\n",
       "...      .. .. ..\n",
       "157243.0  0  1  0\n",
       "157733.0  1  0  0\n",
       "160803.0  1  0  0\n",
       "162397.0  0  1  0\n",
       "666666.0  1  0  0\n",
       "\n",
       "[1974 rows x 3 columns]"
      ]
     },
     "execution_count": 37,
     "metadata": {},
     "output_type": "execute_result"
    }
   ],
   "source": [
    "pd.crosstab(df.Income,df.Teenhome)"
   ]
  },
  {
   "cell_type": "code",
   "execution_count": 38,
   "id": "c73ab22c",
   "metadata": {
    "execution": {
     "iopub.execute_input": "2024-03-15T23:02:56.022502Z",
     "iopub.status.busy": "2024-03-15T23:02:56.021518Z",
     "iopub.status.idle": "2024-03-15T23:03:24.800789Z",
     "shell.execute_reply": "2024-03-15T23:03:24.799693Z"
    },
    "papermill": {
     "duration": 28.818993,
     "end_time": "2024-03-15T23:03:24.804285",
     "exception": false,
     "start_time": "2024-03-15T23:02:55.985292",
     "status": "completed"
    },
    "tags": []
   },
   "outputs": [
    {
     "data": {
      "text/html": [
       "<div>\n",
       "<style scoped>\n",
       "    .dataframe tbody tr th:only-of-type {\n",
       "        vertical-align: middle;\n",
       "    }\n",
       "\n",
       "    .dataframe tbody tr th {\n",
       "        vertical-align: top;\n",
       "    }\n",
       "\n",
       "    .dataframe thead tr th {\n",
       "        text-align: left;\n",
       "    }\n",
       "\n",
       "    .dataframe thead tr:last-of-type th {\n",
       "        text-align: right;\n",
       "    }\n",
       "</style>\n",
       "<table border=\"1\" class=\"dataframe\">\n",
       "  <thead>\n",
       "    <tr>\n",
       "      <th></th>\n",
       "      <th></th>\n",
       "      <th></th>\n",
       "      <th colspan=\"8\" halign=\"left\">ID</th>\n",
       "      <th colspan=\"2\" halign=\"left\">Year_Birth</th>\n",
       "      <th>...</th>\n",
       "      <th colspan=\"2\" halign=\"left\">Z_Revenue</th>\n",
       "      <th colspan=\"8\" halign=\"left\">Response</th>\n",
       "    </tr>\n",
       "    <tr>\n",
       "      <th></th>\n",
       "      <th></th>\n",
       "      <th></th>\n",
       "      <th>count</th>\n",
       "      <th>mean</th>\n",
       "      <th>min</th>\n",
       "      <th>25%</th>\n",
       "      <th>50%</th>\n",
       "      <th>75%</th>\n",
       "      <th>max</th>\n",
       "      <th>std</th>\n",
       "      <th>count</th>\n",
       "      <th>mean</th>\n",
       "      <th>...</th>\n",
       "      <th>max</th>\n",
       "      <th>std</th>\n",
       "      <th>count</th>\n",
       "      <th>mean</th>\n",
       "      <th>min</th>\n",
       "      <th>25%</th>\n",
       "      <th>50%</th>\n",
       "      <th>75%</th>\n",
       "      <th>max</th>\n",
       "      <th>std</th>\n",
       "    </tr>\n",
       "    <tr>\n",
       "      <th>NumWebPurchases</th>\n",
       "      <th>NumCatalogPurchases</th>\n",
       "      <th>NumStorePurchases</th>\n",
       "      <th></th>\n",
       "      <th></th>\n",
       "      <th></th>\n",
       "      <th></th>\n",
       "      <th></th>\n",
       "      <th></th>\n",
       "      <th></th>\n",
       "      <th></th>\n",
       "      <th></th>\n",
       "      <th></th>\n",
       "      <th></th>\n",
       "      <th></th>\n",
       "      <th></th>\n",
       "      <th></th>\n",
       "      <th></th>\n",
       "      <th></th>\n",
       "      <th></th>\n",
       "      <th></th>\n",
       "      <th></th>\n",
       "      <th></th>\n",
       "      <th></th>\n",
       "    </tr>\n",
       "  </thead>\n",
       "  <tbody>\n",
       "    <tr>\n",
       "      <th rowspan=\"5\" valign=\"top\">0</th>\n",
       "      <th rowspan=\"3\" valign=\"top\">0</th>\n",
       "      <th>0</th>\n",
       "      <td>6.0</td>\n",
       "      <td>8099.000000</td>\n",
       "      <td>3955.0</td>\n",
       "      <td>5881.75</td>\n",
       "      <td>8396.5</td>\n",
       "      <td>10815.25</td>\n",
       "      <td>11181.0</td>\n",
       "      <td>3069.068588</td>\n",
       "      <td>6.0</td>\n",
       "      <td>1966.000000</td>\n",
       "      <td>...</td>\n",
       "      <td>11.0</td>\n",
       "      <td>0.0</td>\n",
       "      <td>6.0</td>\n",
       "      <td>0.000000</td>\n",
       "      <td>0.0</td>\n",
       "      <td>0.0</td>\n",
       "      <td>0.0</td>\n",
       "      <td>0.0</td>\n",
       "      <td>0.0</td>\n",
       "      <td>0.000000</td>\n",
       "    </tr>\n",
       "    <tr>\n",
       "      <th>1</th>\n",
       "      <td>3.0</td>\n",
       "      <td>4842.000000</td>\n",
       "      <td>1503.0</td>\n",
       "      <td>2903.00</td>\n",
       "      <td>4303.0</td>\n",
       "      <td>6511.50</td>\n",
       "      <td>8720.0</td>\n",
       "      <td>3638.566064</td>\n",
       "      <td>3.0</td>\n",
       "      <td>1970.333333</td>\n",
       "      <td>...</td>\n",
       "      <td>11.0</td>\n",
       "      <td>0.0</td>\n",
       "      <td>3.0</td>\n",
       "      <td>0.000000</td>\n",
       "      <td>0.0</td>\n",
       "      <td>0.0</td>\n",
       "      <td>0.0</td>\n",
       "      <td>0.0</td>\n",
       "      <td>0.0</td>\n",
       "      <td>0.000000</td>\n",
       "    </tr>\n",
       "    <tr>\n",
       "      <th>3</th>\n",
       "      <td>28.0</td>\n",
       "      <td>7482.857143</td>\n",
       "      <td>73.0</td>\n",
       "      <td>6341.50</td>\n",
       "      <td>8255.0</td>\n",
       "      <td>9528.00</td>\n",
       "      <td>10492.0</td>\n",
       "      <td>2776.182467</td>\n",
       "      <td>28.0</td>\n",
       "      <td>1968.571429</td>\n",
       "      <td>...</td>\n",
       "      <td>11.0</td>\n",
       "      <td>0.0</td>\n",
       "      <td>28.0</td>\n",
       "      <td>0.000000</td>\n",
       "      <td>0.0</td>\n",
       "      <td>0.0</td>\n",
       "      <td>0.0</td>\n",
       "      <td>0.0</td>\n",
       "      <td>0.0</td>\n",
       "      <td>0.000000</td>\n",
       "    </tr>\n",
       "    <tr>\n",
       "      <th rowspan=\"2\" valign=\"top\">1</th>\n",
       "      <th>0</th>\n",
       "      <td>1.0</td>\n",
       "      <td>10749.000000</td>\n",
       "      <td>10749.0</td>\n",
       "      <td>10749.00</td>\n",
       "      <td>10749.0</td>\n",
       "      <td>10749.00</td>\n",
       "      <td>10749.0</td>\n",
       "      <td>NaN</td>\n",
       "      <td>1.0</td>\n",
       "      <td>1991.000000</td>\n",
       "      <td>...</td>\n",
       "      <td>11.0</td>\n",
       "      <td>NaN</td>\n",
       "      <td>1.0</td>\n",
       "      <td>0.000000</td>\n",
       "      <td>0.0</td>\n",
       "      <td>0.0</td>\n",
       "      <td>0.0</td>\n",
       "      <td>0.0</td>\n",
       "      <td>0.0</td>\n",
       "      <td>NaN</td>\n",
       "    </tr>\n",
       "    <tr>\n",
       "      <th>2</th>\n",
       "      <td>7.0</td>\n",
       "      <td>3335.857143</td>\n",
       "      <td>624.0</td>\n",
       "      <td>1484.50</td>\n",
       "      <td>2518.0</td>\n",
       "      <td>4435.50</td>\n",
       "      <td>8369.0</td>\n",
       "      <td>2869.855132</td>\n",
       "      <td>7.0</td>\n",
       "      <td>1976.714286</td>\n",
       "      <td>...</td>\n",
       "      <td>11.0</td>\n",
       "      <td>0.0</td>\n",
       "      <td>7.0</td>\n",
       "      <td>0.142857</td>\n",
       "      <td>0.0</td>\n",
       "      <td>0.0</td>\n",
       "      <td>0.0</td>\n",
       "      <td>0.0</td>\n",
       "      <td>1.0</td>\n",
       "      <td>0.377964</td>\n",
       "    </tr>\n",
       "    <tr>\n",
       "      <th>...</th>\n",
       "      <th>...</th>\n",
       "      <th>...</th>\n",
       "      <td>...</td>\n",
       "      <td>...</td>\n",
       "      <td>...</td>\n",
       "      <td>...</td>\n",
       "      <td>...</td>\n",
       "      <td>...</td>\n",
       "      <td>...</td>\n",
       "      <td>...</td>\n",
       "      <td>...</td>\n",
       "      <td>...</td>\n",
       "      <td>...</td>\n",
       "      <td>...</td>\n",
       "      <td>...</td>\n",
       "      <td>...</td>\n",
       "      <td>...</td>\n",
       "      <td>...</td>\n",
       "      <td>...</td>\n",
       "      <td>...</td>\n",
       "      <td>...</td>\n",
       "      <td>...</td>\n",
       "      <td>...</td>\n",
       "    </tr>\n",
       "    <tr>\n",
       "      <th rowspan=\"2\" valign=\"top\">11</th>\n",
       "      <th>10</th>\n",
       "      <th>11</th>\n",
       "      <td>2.0</td>\n",
       "      <td>4640.000000</td>\n",
       "      <td>4127.0</td>\n",
       "      <td>4383.50</td>\n",
       "      <td>4640.0</td>\n",
       "      <td>4896.50</td>\n",
       "      <td>5153.0</td>\n",
       "      <td>725.491557</td>\n",
       "      <td>2.0</td>\n",
       "      <td>1967.000000</td>\n",
       "      <td>...</td>\n",
       "      <td>11.0</td>\n",
       "      <td>0.0</td>\n",
       "      <td>2.0</td>\n",
       "      <td>1.000000</td>\n",
       "      <td>1.0</td>\n",
       "      <td>1.0</td>\n",
       "      <td>1.0</td>\n",
       "      <td>1.0</td>\n",
       "      <td>1.0</td>\n",
       "      <td>0.000000</td>\n",
       "    </tr>\n",
       "    <tr>\n",
       "      <th>11</th>\n",
       "      <th>5</th>\n",
       "      <td>1.0</td>\n",
       "      <td>4299.000000</td>\n",
       "      <td>4299.0</td>\n",
       "      <td>4299.00</td>\n",
       "      <td>4299.0</td>\n",
       "      <td>4299.00</td>\n",
       "      <td>4299.0</td>\n",
       "      <td>NaN</td>\n",
       "      <td>1.0</td>\n",
       "      <td>1960.000000</td>\n",
       "      <td>...</td>\n",
       "      <td>11.0</td>\n",
       "      <td>NaN</td>\n",
       "      <td>1.0</td>\n",
       "      <td>1.000000</td>\n",
       "      <td>1.0</td>\n",
       "      <td>1.0</td>\n",
       "      <td>1.0</td>\n",
       "      <td>1.0</td>\n",
       "      <td>1.0</td>\n",
       "      <td>NaN</td>\n",
       "    </tr>\n",
       "    <tr>\n",
       "      <th>23</th>\n",
       "      <th>1</th>\n",
       "      <th>1</th>\n",
       "      <td>1.0</td>\n",
       "      <td>6237.000000</td>\n",
       "      <td>6237.0</td>\n",
       "      <td>6237.00</td>\n",
       "      <td>6237.0</td>\n",
       "      <td>6237.00</td>\n",
       "      <td>6237.0</td>\n",
       "      <td>NaN</td>\n",
       "      <td>1.0</td>\n",
       "      <td>1966.000000</td>\n",
       "      <td>...</td>\n",
       "      <td>11.0</td>\n",
       "      <td>NaN</td>\n",
       "      <td>1.0</td>\n",
       "      <td>0.000000</td>\n",
       "      <td>0.0</td>\n",
       "      <td>0.0</td>\n",
       "      <td>0.0</td>\n",
       "      <td>0.0</td>\n",
       "      <td>0.0</td>\n",
       "      <td>NaN</td>\n",
       "    </tr>\n",
       "    <tr>\n",
       "      <th>25</th>\n",
       "      <th>0</th>\n",
       "      <th>0</th>\n",
       "      <td>1.0</td>\n",
       "      <td>10311.000000</td>\n",
       "      <td>10311.0</td>\n",
       "      <td>10311.00</td>\n",
       "      <td>10311.0</td>\n",
       "      <td>10311.00</td>\n",
       "      <td>10311.0</td>\n",
       "      <td>NaN</td>\n",
       "      <td>1.0</td>\n",
       "      <td>1969.000000</td>\n",
       "      <td>...</td>\n",
       "      <td>11.0</td>\n",
       "      <td>NaN</td>\n",
       "      <td>1.0</td>\n",
       "      <td>0.000000</td>\n",
       "      <td>0.0</td>\n",
       "      <td>0.0</td>\n",
       "      <td>0.0</td>\n",
       "      <td>0.0</td>\n",
       "      <td>0.0</td>\n",
       "      <td>NaN</td>\n",
       "    </tr>\n",
       "    <tr>\n",
       "      <th>27</th>\n",
       "      <th>0</th>\n",
       "      <th>0</th>\n",
       "      <td>2.0</td>\n",
       "      <td>4937.000000</td>\n",
       "      <td>4619.0</td>\n",
       "      <td>4778.00</td>\n",
       "      <td>4937.0</td>\n",
       "      <td>5096.00</td>\n",
       "      <td>5255.0</td>\n",
       "      <td>449.719913</td>\n",
       "      <td>2.0</td>\n",
       "      <td>1965.500000</td>\n",
       "      <td>...</td>\n",
       "      <td>11.0</td>\n",
       "      <td>0.0</td>\n",
       "      <td>2.0</td>\n",
       "      <td>0.000000</td>\n",
       "      <td>0.0</td>\n",
       "      <td>0.0</td>\n",
       "      <td>0.0</td>\n",
       "      <td>0.0</td>\n",
       "      <td>0.0</td>\n",
       "      <td>0.000000</td>\n",
       "    </tr>\n",
       "  </tbody>\n",
       "</table>\n",
       "<p>601 rows × 192 columns</p>\n",
       "</div>"
      ],
      "text/plain": [
       "                                                         ID                \\\n",
       "                                                      count          mean   \n",
       "NumWebPurchases NumCatalogPurchases NumStorePurchases                       \n",
       "0               0                   0                   6.0   8099.000000   \n",
       "                                    1                   3.0   4842.000000   \n",
       "                                    3                  28.0   7482.857143   \n",
       "                1                   0                   1.0  10749.000000   \n",
       "                                    2                   7.0   3335.857143   \n",
       "...                                                     ...           ...   \n",
       "11              10                  11                  2.0   4640.000000   \n",
       "                11                  5                   1.0   4299.000000   \n",
       "23              1                   1                   1.0   6237.000000   \n",
       "25              0                   0                   1.0  10311.000000   \n",
       "27              0                   0                   2.0   4937.000000   \n",
       "\n",
       "                                                                          \\\n",
       "                                                           min       25%   \n",
       "NumWebPurchases NumCatalogPurchases NumStorePurchases                      \n",
       "0               0                   0                   3955.0   5881.75   \n",
       "                                    1                   1503.0   2903.00   \n",
       "                                    3                     73.0   6341.50   \n",
       "                1                   0                  10749.0  10749.00   \n",
       "                                    2                    624.0   1484.50   \n",
       "...                                                        ...       ...   \n",
       "11              10                  11                  4127.0   4383.50   \n",
       "                11                  5                   4299.0   4299.00   \n",
       "23              1                   1                   6237.0   6237.00   \n",
       "25              0                   0                  10311.0  10311.00   \n",
       "27              0                   0                   4619.0   4778.00   \n",
       "\n",
       "                                                                          \\\n",
       "                                                           50%       75%   \n",
       "NumWebPurchases NumCatalogPurchases NumStorePurchases                      \n",
       "0               0                   0                   8396.5  10815.25   \n",
       "                                    1                   4303.0   6511.50   \n",
       "                                    3                   8255.0   9528.00   \n",
       "                1                   0                  10749.0  10749.00   \n",
       "                                    2                   2518.0   4435.50   \n",
       "...                                                        ...       ...   \n",
       "11              10                  11                  4640.0   4896.50   \n",
       "                11                  5                   4299.0   4299.00   \n",
       "23              1                   1                   6237.0   6237.00   \n",
       "25              0                   0                  10311.0  10311.00   \n",
       "27              0                   0                   4937.0   5096.00   \n",
       "\n",
       "                                                                             \\\n",
       "                                                           max          std   \n",
       "NumWebPurchases NumCatalogPurchases NumStorePurchases                         \n",
       "0               0                   0                  11181.0  3069.068588   \n",
       "                                    1                   8720.0  3638.566064   \n",
       "                                    3                  10492.0  2776.182467   \n",
       "                1                   0                  10749.0          NaN   \n",
       "                                    2                   8369.0  2869.855132   \n",
       "...                                                        ...          ...   \n",
       "11              10                  11                  5153.0   725.491557   \n",
       "                11                  5                   4299.0          NaN   \n",
       "23              1                   1                   6237.0          NaN   \n",
       "25              0                   0                  10311.0          NaN   \n",
       "27              0                   0                   5255.0   449.719913   \n",
       "\n",
       "                                                      Year_Birth               \\\n",
       "                                                           count         mean   \n",
       "NumWebPurchases NumCatalogPurchases NumStorePurchases                           \n",
       "0               0                   0                        6.0  1966.000000   \n",
       "                                    1                        3.0  1970.333333   \n",
       "                                    3                       28.0  1968.571429   \n",
       "                1                   0                        1.0  1991.000000   \n",
       "                                    2                        7.0  1976.714286   \n",
       "...                                                          ...          ...   \n",
       "11              10                  11                       2.0  1967.000000   \n",
       "                11                  5                        1.0  1960.000000   \n",
       "23              1                   1                        1.0  1966.000000   \n",
       "25              0                   0                        1.0  1969.000000   \n",
       "27              0                   0                        2.0  1965.500000   \n",
       "\n",
       "                                                       ... Z_Revenue       \\\n",
       "                                                       ...       max  std   \n",
       "NumWebPurchases NumCatalogPurchases NumStorePurchases  ...                  \n",
       "0               0                   0                  ...      11.0  0.0   \n",
       "                                    1                  ...      11.0  0.0   \n",
       "                                    3                  ...      11.0  0.0   \n",
       "                1                   0                  ...      11.0  NaN   \n",
       "                                    2                  ...      11.0  0.0   \n",
       "...                                                    ...       ...  ...   \n",
       "11              10                  11                 ...      11.0  0.0   \n",
       "                11                  5                  ...      11.0  NaN   \n",
       "23              1                   1                  ...      11.0  NaN   \n",
       "25              0                   0                  ...      11.0  NaN   \n",
       "27              0                   0                  ...      11.0  0.0   \n",
       "\n",
       "                                                      Response                 \\\n",
       "                                                         count      mean  min   \n",
       "NumWebPurchases NumCatalogPurchases NumStorePurchases                           \n",
       "0               0                   0                      6.0  0.000000  0.0   \n",
       "                                    1                      3.0  0.000000  0.0   \n",
       "                                    3                     28.0  0.000000  0.0   \n",
       "                1                   0                      1.0  0.000000  0.0   \n",
       "                                    2                      7.0  0.142857  0.0   \n",
       "...                                                        ...       ...  ...   \n",
       "11              10                  11                     2.0  1.000000  1.0   \n",
       "                11                  5                      1.0  1.000000  1.0   \n",
       "23              1                   1                      1.0  0.000000  0.0   \n",
       "25              0                   0                      1.0  0.000000  0.0   \n",
       "27              0                   0                      2.0  0.000000  0.0   \n",
       "\n",
       "                                                                           \\\n",
       "                                                       25%  50%  75%  max   \n",
       "NumWebPurchases NumCatalogPurchases NumStorePurchases                       \n",
       "0               0                   0                  0.0  0.0  0.0  0.0   \n",
       "                                    1                  0.0  0.0  0.0  0.0   \n",
       "                                    3                  0.0  0.0  0.0  0.0   \n",
       "                1                   0                  0.0  0.0  0.0  0.0   \n",
       "                                    2                  0.0  0.0  0.0  1.0   \n",
       "...                                                    ...  ...  ...  ...   \n",
       "11              10                  11                 1.0  1.0  1.0  1.0   \n",
       "                11                  5                  1.0  1.0  1.0  1.0   \n",
       "23              1                   1                  0.0  0.0  0.0  0.0   \n",
       "25              0                   0                  0.0  0.0  0.0  0.0   \n",
       "27              0                   0                  0.0  0.0  0.0  0.0   \n",
       "\n",
       "                                                                 \n",
       "                                                            std  \n",
       "NumWebPurchases NumCatalogPurchases NumStorePurchases            \n",
       "0               0                   0                  0.000000  \n",
       "                                    1                  0.000000  \n",
       "                                    3                  0.000000  \n",
       "                1                   0                       NaN  \n",
       "                                    2                  0.377964  \n",
       "...                                                         ...  \n",
       "11              10                  11                 0.000000  \n",
       "                11                  5                       NaN  \n",
       "23              1                   1                       NaN  \n",
       "25              0                   0                       NaN  \n",
       "27              0                   0                  0.000000  \n",
       "\n",
       "[601 rows x 192 columns]"
      ]
     },
     "execution_count": 38,
     "metadata": {},
     "output_type": "execute_result"
    }
   ],
   "source": [
    "df.groupby(visits).describe()"
   ]
  },
  {
   "cell_type": "code",
   "execution_count": 39,
   "id": "28691ac1",
   "metadata": {
    "execution": {
     "iopub.execute_input": "2024-03-15T23:03:24.881149Z",
     "iopub.status.busy": "2024-03-15T23:03:24.880271Z",
     "iopub.status.idle": "2024-03-15T23:03:24.892718Z",
     "shell.execute_reply": "2024-03-15T23:03:24.891480Z"
    },
    "papermill": {
     "duration": 0.053396,
     "end_time": "2024-03-15T23:03:24.895611",
     "exception": false,
     "start_time": "2024-03-15T23:03:24.842215",
     "status": "completed"
    },
    "tags": []
   },
   "outputs": [
    {
     "data": {
      "text/plain": [
       "0       1617\n",
       "1         27\n",
       "2        776\n",
       "3         53\n",
       "4        422\n",
       "        ... \n",
       "2235    1341\n",
       "2236     444\n",
       "2237    1241\n",
       "2238     843\n",
       "2239     172\n",
       "Name: total_amounts, Length: 2240, dtype: int64"
      ]
     },
     "execution_count": 39,
     "metadata": {},
     "output_type": "execute_result"
    }
   ],
   "source": [
    "df[\"total_amounts\"]=df[amounts].sum(axis=1)\n",
    "df[\"total_amounts\"]"
   ]
  },
  {
   "cell_type": "code",
   "execution_count": 40,
   "id": "ff70a9cb",
   "metadata": {
    "execution": {
     "iopub.execute_input": "2024-03-15T23:03:24.972441Z",
     "iopub.status.busy": "2024-03-15T23:03:24.971869Z",
     "iopub.status.idle": "2024-03-15T23:03:24.983713Z",
     "shell.execute_reply": "2024-03-15T23:03:24.981370Z"
    },
    "papermill": {
     "duration": 0.055953,
     "end_time": "2024-03-15T23:03:24.988130",
     "exception": false,
     "start_time": "2024-03-15T23:03:24.932177",
     "status": "completed"
    },
    "tags": []
   },
   "outputs": [
    {
     "data": {
      "text/plain": [
       "0    1617\n",
       "dtype: int64"
      ]
     },
     "execution_count": 40,
     "metadata": {},
     "output_type": "execute_result"
    }
   ],
   "source": [
    "df[amounts][0:1].sum(axis=1)"
   ]
  },
  {
   "cell_type": "code",
   "execution_count": 41,
   "id": "1d116b7b",
   "metadata": {
    "execution": {
     "iopub.execute_input": "2024-03-15T23:03:25.082885Z",
     "iopub.status.busy": "2024-03-15T23:03:25.082360Z",
     "iopub.status.idle": "2024-03-15T23:03:25.154953Z",
     "shell.execute_reply": "2024-03-15T23:03:25.153650Z"
    },
    "papermill": {
     "duration": 0.122543,
     "end_time": "2024-03-15T23:03:25.158013",
     "exception": false,
     "start_time": "2024-03-15T23:03:25.035470",
     "status": "completed"
    },
    "tags": []
   },
   "outputs": [
    {
     "data": {
      "text/html": [
       "<div>\n",
       "<style scoped>\n",
       "    .dataframe tbody tr th:only-of-type {\n",
       "        vertical-align: middle;\n",
       "    }\n",
       "\n",
       "    .dataframe tbody tr th {\n",
       "        vertical-align: top;\n",
       "    }\n",
       "\n",
       "    .dataframe thead th {\n",
       "        text-align: right;\n",
       "    }\n",
       "</style>\n",
       "<table border=\"1\" class=\"dataframe\">\n",
       "  <thead>\n",
       "    <tr style=\"text-align: right;\">\n",
       "      <th>total_amounts</th>\n",
       "      <th>5</th>\n",
       "      <th>6</th>\n",
       "      <th>8</th>\n",
       "      <th>9</th>\n",
       "      <th>10</th>\n",
       "      <th>11</th>\n",
       "      <th>12</th>\n",
       "      <th>13</th>\n",
       "      <th>14</th>\n",
       "      <th>15</th>\n",
       "      <th>...</th>\n",
       "      <th>2279</th>\n",
       "      <th>2283</th>\n",
       "      <th>2302</th>\n",
       "      <th>2346</th>\n",
       "      <th>2349</th>\n",
       "      <th>2352</th>\n",
       "      <th>2440</th>\n",
       "      <th>2486</th>\n",
       "      <th>2524</th>\n",
       "      <th>2525</th>\n",
       "    </tr>\n",
       "    <tr>\n",
       "      <th>Marital_Status</th>\n",
       "      <th></th>\n",
       "      <th></th>\n",
       "      <th></th>\n",
       "      <th></th>\n",
       "      <th></th>\n",
       "      <th></th>\n",
       "      <th></th>\n",
       "      <th></th>\n",
       "      <th></th>\n",
       "      <th></th>\n",
       "      <th></th>\n",
       "      <th></th>\n",
       "      <th></th>\n",
       "      <th></th>\n",
       "      <th></th>\n",
       "      <th></th>\n",
       "      <th></th>\n",
       "      <th></th>\n",
       "      <th></th>\n",
       "      <th></th>\n",
       "      <th></th>\n",
       "    </tr>\n",
       "  </thead>\n",
       "  <tbody>\n",
       "    <tr>\n",
       "      <th>Absurd</th>\n",
       "      <td>0</td>\n",
       "      <td>0</td>\n",
       "      <td>0</td>\n",
       "      <td>0</td>\n",
       "      <td>0</td>\n",
       "      <td>0</td>\n",
       "      <td>0</td>\n",
       "      <td>0</td>\n",
       "      <td>0</td>\n",
       "      <td>0</td>\n",
       "      <td>...</td>\n",
       "      <td>0</td>\n",
       "      <td>0</td>\n",
       "      <td>0</td>\n",
       "      <td>0</td>\n",
       "      <td>0</td>\n",
       "      <td>0</td>\n",
       "      <td>0</td>\n",
       "      <td>0</td>\n",
       "      <td>0</td>\n",
       "      <td>0</td>\n",
       "    </tr>\n",
       "    <tr>\n",
       "      <th>Alone</th>\n",
       "      <td>0</td>\n",
       "      <td>0</td>\n",
       "      <td>0</td>\n",
       "      <td>0</td>\n",
       "      <td>0</td>\n",
       "      <td>0</td>\n",
       "      <td>0</td>\n",
       "      <td>0</td>\n",
       "      <td>0</td>\n",
       "      <td>0</td>\n",
       "      <td>...</td>\n",
       "      <td>0</td>\n",
       "      <td>0</td>\n",
       "      <td>0</td>\n",
       "      <td>0</td>\n",
       "      <td>0</td>\n",
       "      <td>0</td>\n",
       "      <td>0</td>\n",
       "      <td>0</td>\n",
       "      <td>0</td>\n",
       "      <td>0</td>\n",
       "    </tr>\n",
       "    <tr>\n",
       "      <th>Divorced</th>\n",
       "      <td>0</td>\n",
       "      <td>2</td>\n",
       "      <td>1</td>\n",
       "      <td>0</td>\n",
       "      <td>0</td>\n",
       "      <td>1</td>\n",
       "      <td>0</td>\n",
       "      <td>2</td>\n",
       "      <td>1</td>\n",
       "      <td>1</td>\n",
       "      <td>...</td>\n",
       "      <td>0</td>\n",
       "      <td>0</td>\n",
       "      <td>0</td>\n",
       "      <td>0</td>\n",
       "      <td>0</td>\n",
       "      <td>0</td>\n",
       "      <td>0</td>\n",
       "      <td>0</td>\n",
       "      <td>0</td>\n",
       "      <td>0</td>\n",
       "    </tr>\n",
       "    <tr>\n",
       "      <th>Married</th>\n",
       "      <td>0</td>\n",
       "      <td>0</td>\n",
       "      <td>1</td>\n",
       "      <td>1</td>\n",
       "      <td>1</td>\n",
       "      <td>2</td>\n",
       "      <td>0</td>\n",
       "      <td>1</td>\n",
       "      <td>1</td>\n",
       "      <td>2</td>\n",
       "      <td>...</td>\n",
       "      <td>0</td>\n",
       "      <td>0</td>\n",
       "      <td>0</td>\n",
       "      <td>1</td>\n",
       "      <td>0</td>\n",
       "      <td>1</td>\n",
       "      <td>1</td>\n",
       "      <td>1</td>\n",
       "      <td>0</td>\n",
       "      <td>0</td>\n",
       "    </tr>\n",
       "    <tr>\n",
       "      <th>Single</th>\n",
       "      <td>1</td>\n",
       "      <td>0</td>\n",
       "      <td>0</td>\n",
       "      <td>0</td>\n",
       "      <td>1</td>\n",
       "      <td>0</td>\n",
       "      <td>0</td>\n",
       "      <td>1</td>\n",
       "      <td>1</td>\n",
       "      <td>2</td>\n",
       "      <td>...</td>\n",
       "      <td>0</td>\n",
       "      <td>0</td>\n",
       "      <td>0</td>\n",
       "      <td>0</td>\n",
       "      <td>1</td>\n",
       "      <td>0</td>\n",
       "      <td>0</td>\n",
       "      <td>0</td>\n",
       "      <td>0</td>\n",
       "      <td>2</td>\n",
       "    </tr>\n",
       "    <tr>\n",
       "      <th>Together</th>\n",
       "      <td>0</td>\n",
       "      <td>0</td>\n",
       "      <td>2</td>\n",
       "      <td>1</td>\n",
       "      <td>3</td>\n",
       "      <td>2</td>\n",
       "      <td>2</td>\n",
       "      <td>2</td>\n",
       "      <td>0</td>\n",
       "      <td>4</td>\n",
       "      <td>...</td>\n",
       "      <td>1</td>\n",
       "      <td>1</td>\n",
       "      <td>2</td>\n",
       "      <td>0</td>\n",
       "      <td>0</td>\n",
       "      <td>0</td>\n",
       "      <td>0</td>\n",
       "      <td>0</td>\n",
       "      <td>1</td>\n",
       "      <td>0</td>\n",
       "    </tr>\n",
       "    <tr>\n",
       "      <th>Widow</th>\n",
       "      <td>0</td>\n",
       "      <td>0</td>\n",
       "      <td>0</td>\n",
       "      <td>0</td>\n",
       "      <td>0</td>\n",
       "      <td>0</td>\n",
       "      <td>0</td>\n",
       "      <td>0</td>\n",
       "      <td>0</td>\n",
       "      <td>1</td>\n",
       "      <td>...</td>\n",
       "      <td>0</td>\n",
       "      <td>0</td>\n",
       "      <td>0</td>\n",
       "      <td>0</td>\n",
       "      <td>0</td>\n",
       "      <td>0</td>\n",
       "      <td>0</td>\n",
       "      <td>0</td>\n",
       "      <td>0</td>\n",
       "      <td>0</td>\n",
       "    </tr>\n",
       "    <tr>\n",
       "      <th>YOLO</th>\n",
       "      <td>0</td>\n",
       "      <td>0</td>\n",
       "      <td>0</td>\n",
       "      <td>0</td>\n",
       "      <td>0</td>\n",
       "      <td>0</td>\n",
       "      <td>0</td>\n",
       "      <td>0</td>\n",
       "      <td>0</td>\n",
       "      <td>0</td>\n",
       "      <td>...</td>\n",
       "      <td>0</td>\n",
       "      <td>0</td>\n",
       "      <td>0</td>\n",
       "      <td>0</td>\n",
       "      <td>0</td>\n",
       "      <td>0</td>\n",
       "      <td>0</td>\n",
       "      <td>0</td>\n",
       "      <td>0</td>\n",
       "      <td>0</td>\n",
       "    </tr>\n",
       "  </tbody>\n",
       "</table>\n",
       "<p>8 rows × 1054 columns</p>\n",
       "</div>"
      ],
      "text/plain": [
       "total_amounts   5     6     8     9     10    11    12    13    14    15    \\\n",
       "Marital_Status                                                               \n",
       "Absurd             0     0     0     0     0     0     0     0     0     0   \n",
       "Alone              0     0     0     0     0     0     0     0     0     0   \n",
       "Divorced           0     2     1     0     0     1     0     2     1     1   \n",
       "Married            0     0     1     1     1     2     0     1     1     2   \n",
       "Single             1     0     0     0     1     0     0     1     1     2   \n",
       "Together           0     0     2     1     3     2     2     2     0     4   \n",
       "Widow              0     0     0     0     0     0     0     0     0     1   \n",
       "YOLO               0     0     0     0     0     0     0     0     0     0   \n",
       "\n",
       "total_amounts   ...  2279  2283  2302  2346  2349  2352  2440  2486  2524  \\\n",
       "Marital_Status  ...                                                         \n",
       "Absurd          ...     0     0     0     0     0     0     0     0     0   \n",
       "Alone           ...     0     0     0     0     0     0     0     0     0   \n",
       "Divorced        ...     0     0     0     0     0     0     0     0     0   \n",
       "Married         ...     0     0     0     1     0     1     1     1     0   \n",
       "Single          ...     0     0     0     0     1     0     0     0     0   \n",
       "Together        ...     1     1     2     0     0     0     0     0     1   \n",
       "Widow           ...     0     0     0     0     0     0     0     0     0   \n",
       "YOLO            ...     0     0     0     0     0     0     0     0     0   \n",
       "\n",
       "total_amounts   2525  \n",
       "Marital_Status        \n",
       "Absurd             0  \n",
       "Alone              0  \n",
       "Divorced           0  \n",
       "Married            0  \n",
       "Single             2  \n",
       "Together           0  \n",
       "Widow              0  \n",
       "YOLO               0  \n",
       "\n",
       "[8 rows x 1054 columns]"
      ]
     },
     "execution_count": 41,
     "metadata": {},
     "output_type": "execute_result"
    }
   ],
   "source": [
    "pd.crosstab(df.Marital_Status,df[\"total_amounts\"]) #not true must be made by group by"
   ]
  },
  {
   "cell_type": "code",
   "execution_count": 42,
   "id": "ae898773",
   "metadata": {
    "execution": {
     "iopub.execute_input": "2024-03-15T23:03:25.232196Z",
     "iopub.status.busy": "2024-03-15T23:03:25.231741Z",
     "iopub.status.idle": "2024-03-15T23:03:25.242635Z",
     "shell.execute_reply": "2024-03-15T23:03:25.241412Z"
    },
    "papermill": {
     "duration": 0.051349,
     "end_time": "2024-03-15T23:03:25.245095",
     "exception": false,
     "start_time": "2024-03-15T23:03:25.193746",
     "status": "completed"
    },
    "tags": []
   },
   "outputs": [
    {
     "data": {
      "text/plain": [
       "Marital_Status\n",
       "Absurd        2385\n",
       "Alone          770\n",
       "Divorced    141666\n",
       "Married     510453\n",
       "Single      291112\n",
       "Together    352865\n",
       "Widow        56889\n",
       "YOLO           848\n",
       "Name: total_amounts, dtype: int64"
      ]
     },
     "execution_count": 42,
     "metadata": {},
     "output_type": "execute_result"
    }
   ],
   "source": [
    "df.groupby(\"Marital_Status\")[\"total_amounts\"].sum()"
   ]
  },
  {
   "cell_type": "code",
   "execution_count": 43,
   "id": "40a97f07",
   "metadata": {
    "execution": {
     "iopub.execute_input": "2024-03-15T23:03:25.322406Z",
     "iopub.status.busy": "2024-03-15T23:03:25.321896Z",
     "iopub.status.idle": "2024-03-15T23:03:25.932910Z",
     "shell.execute_reply": "2024-03-15T23:03:25.931462Z"
    },
    "papermill": {
     "duration": 0.654811,
     "end_time": "2024-03-15T23:03:25.936776",
     "exception": false,
     "start_time": "2024-03-15T23:03:25.281965",
     "status": "completed"
    },
    "tags": []
   },
   "outputs": [
    {
     "data": {
      "image/png": "[encoded data removed]",
      "text/plain": [
       "<Figure size 900x600 with 1 Axes>"
      ]
     },
     "metadata": {},
     "output_type": "display_data"
    }
   ],
   "source": [
    "g = sns.catplot(x=\"Education\", y=\"NumWebPurchases\", kind=\"bar\", data=df, height=6, aspect=1.5, palette=\"viridis\")\n",
    "g.set_ylabels(\"Number of Web Purchases\")\n",
    "g.set_xlabels(\"Education Level\")\n",
    "g.set(title=\"Number of Web Purchases by Education Level\")\n",
    "plt.show()"
   ]
  },
  {
   "cell_type": "code",
   "execution_count": 44,
   "id": "cf50cfc0",
   "metadata": {
    "execution": {
     "iopub.execute_input": "2024-03-15T23:03:26.013492Z",
     "iopub.status.busy": "2024-03-15T23:03:26.013009Z",
     "iopub.status.idle": "2024-03-15T23:03:26.020777Z",
     "shell.execute_reply": "2024-03-15T23:03:26.019310Z"
    },
    "papermill": {
     "duration": 0.049735,
     "end_time": "2024-03-15T23:03:26.024194",
     "exception": false,
     "start_time": "2024-03-15T23:03:25.974459",
     "status": "completed"
    },
    "tags": []
   },
   "outputs": [],
   "source": [
    "df.drop([\"ID\",\"Year_Birth\",\"Z_CostContact\",\"Z_Revenue\",\"Dt_Customer\"], axis=1, inplace=True)\n"
   ]
  },
  {
   "cell_type": "code",
   "execution_count": 45,
   "id": "85e0737b",
   "metadata": {
    "execution": {
     "iopub.execute_input": "2024-03-15T23:03:26.102892Z",
     "iopub.status.busy": "2024-03-15T23:03:26.102417Z",
     "iopub.status.idle": "2024-03-15T23:03:26.111252Z",
     "shell.execute_reply": "2024-03-15T23:03:26.110289Z"
    },
    "papermill": {
     "duration": 0.051648,
     "end_time": "2024-03-15T23:03:26.113860",
     "exception": false,
     "start_time": "2024-03-15T23:03:26.062212",
     "status": "completed"
    },
    "tags": []
   },
   "outputs": [],
   "source": [
    "education_ctgrs = pd.Categorical(df[\"Education\"], categories=[\"Basic\", \"Graduation\", \"2n Cycle\", \"Master\", \"PhD\"], ordered=True)\n",
    "df[\"educations\"], CAT = pd.factorize(education_ctgrs, sort=True)"
   ]
  },
  {
   "cell_type": "code",
   "execution_count": 46,
   "id": "5b4aa25d",
   "metadata": {
    "execution": {
     "iopub.execute_input": "2024-03-15T23:03:26.190218Z",
     "iopub.status.busy": "2024-03-15T23:03:26.189262Z",
     "iopub.status.idle": "2024-03-15T23:03:26.204239Z",
     "shell.execute_reply": "2024-03-15T23:03:26.202838Z"
    },
    "papermill": {
     "duration": 0.056324,
     "end_time": "2024-03-15T23:03:26.206979",
     "exception": false,
     "start_time": "2024-03-15T23:03:26.150655",
     "status": "completed"
    },
    "tags": []
   },
   "outputs": [
    {
     "data": {
      "text/html": [
       "<div>\n",
       "<style scoped>\n",
       "    .dataframe tbody tr th:only-of-type {\n",
       "        vertical-align: middle;\n",
       "    }\n",
       "\n",
       "    .dataframe tbody tr th {\n",
       "        vertical-align: top;\n",
       "    }\n",
       "\n",
       "    .dataframe thead th {\n",
       "        text-align: right;\n",
       "    }\n",
       "</style>\n",
       "<table border=\"1\" class=\"dataframe\">\n",
       "  <thead>\n",
       "    <tr style=\"text-align: right;\">\n",
       "      <th></th>\n",
       "      <th>Education</th>\n",
       "      <th>educations</th>\n",
       "    </tr>\n",
       "  </thead>\n",
       "  <tbody>\n",
       "    <tr>\n",
       "      <th>0</th>\n",
       "      <td>Graduation</td>\n",
       "      <td>1</td>\n",
       "    </tr>\n",
       "    <tr>\n",
       "      <th>1</th>\n",
       "      <td>Graduation</td>\n",
       "      <td>1</td>\n",
       "    </tr>\n",
       "    <tr>\n",
       "      <th>2</th>\n",
       "      <td>Graduation</td>\n",
       "      <td>1</td>\n",
       "    </tr>\n",
       "    <tr>\n",
       "      <th>3</th>\n",
       "      <td>Graduation</td>\n",
       "      <td>1</td>\n",
       "    </tr>\n",
       "    <tr>\n",
       "      <th>4</th>\n",
       "      <td>PhD</td>\n",
       "      <td>4</td>\n",
       "    </tr>\n",
       "    <tr>\n",
       "      <th>...</th>\n",
       "      <td>...</td>\n",
       "      <td>...</td>\n",
       "    </tr>\n",
       "    <tr>\n",
       "      <th>2235</th>\n",
       "      <td>Graduation</td>\n",
       "      <td>1</td>\n",
       "    </tr>\n",
       "    <tr>\n",
       "      <th>2236</th>\n",
       "      <td>PhD</td>\n",
       "      <td>4</td>\n",
       "    </tr>\n",
       "    <tr>\n",
       "      <th>2237</th>\n",
       "      <td>Graduation</td>\n",
       "      <td>1</td>\n",
       "    </tr>\n",
       "    <tr>\n",
       "      <th>2238</th>\n",
       "      <td>Master</td>\n",
       "      <td>3</td>\n",
       "    </tr>\n",
       "    <tr>\n",
       "      <th>2239</th>\n",
       "      <td>PhD</td>\n",
       "      <td>4</td>\n",
       "    </tr>\n",
       "  </tbody>\n",
       "</table>\n",
       "<p>2240 rows × 2 columns</p>\n",
       "</div>"
      ],
      "text/plain": [
       "       Education  educations\n",
       "0     Graduation           1\n",
       "1     Graduation           1\n",
       "2     Graduation           1\n",
       "3     Graduation           1\n",
       "4            PhD           4\n",
       "...          ...         ...\n",
       "2235  Graduation           1\n",
       "2236         PhD           4\n",
       "2237  Graduation           1\n",
       "2238      Master           3\n",
       "2239         PhD           4\n",
       "\n",
       "[2240 rows x 2 columns]"
      ]
     },
     "execution_count": 46,
     "metadata": {},
     "output_type": "execute_result"
    }
   ],
   "source": [
    "df[[\"Education\",\"educations\"]]\n"
   ]
  },
  {
   "cell_type": "code",
   "execution_count": 47,
   "id": "92c46c6d",
   "metadata": {
    "execution": {
     "iopub.execute_input": "2024-03-15T23:03:26.283139Z",
     "iopub.status.busy": "2024-03-15T23:03:26.282690Z",
     "iopub.status.idle": "2024-03-15T23:03:26.308779Z",
     "shell.execute_reply": "2024-03-15T23:03:26.307395Z"
    },
    "papermill": {
     "duration": 0.067966,
     "end_time": "2024-03-15T23:03:26.311950",
     "exception": false,
     "start_time": "2024-03-15T23:03:26.243984",
     "status": "completed"
    },
    "tags": []
   },
   "outputs": [
    {
     "data": {
      "text/html": [
       "<div>\n",
       "<style scoped>\n",
       "    .dataframe tbody tr th:only-of-type {\n",
       "        vertical-align: middle;\n",
       "    }\n",
       "\n",
       "    .dataframe tbody tr th {\n",
       "        vertical-align: top;\n",
       "    }\n",
       "\n",
       "    .dataframe thead th {\n",
       "        text-align: right;\n",
       "    }\n",
       "</style>\n",
       "<table border=\"1\" class=\"dataframe\">\n",
       "  <thead>\n",
       "    <tr style=\"text-align: right;\">\n",
       "      <th></th>\n",
       "      <th>Marital_Status</th>\n",
       "      <th>Income</th>\n",
       "      <th>Kidhome</th>\n",
       "      <th>Teenhome</th>\n",
       "      <th>Recency</th>\n",
       "      <th>MntWines</th>\n",
       "      <th>MntFruits</th>\n",
       "      <th>MntMeatProducts</th>\n",
       "      <th>MntFishProducts</th>\n",
       "      <th>MntSweetProducts</th>\n",
       "      <th>...</th>\n",
       "      <th>NumWebVisitsMonth</th>\n",
       "      <th>AcceptedCmp3</th>\n",
       "      <th>AcceptedCmp4</th>\n",
       "      <th>AcceptedCmp5</th>\n",
       "      <th>AcceptedCmp1</th>\n",
       "      <th>AcceptedCmp2</th>\n",
       "      <th>Complain</th>\n",
       "      <th>Response</th>\n",
       "      <th>total_amounts</th>\n",
       "      <th>educations</th>\n",
       "    </tr>\n",
       "  </thead>\n",
       "  <tbody>\n",
       "    <tr>\n",
       "      <th>0</th>\n",
       "      <td>Single</td>\n",
       "      <td>58138.0</td>\n",
       "      <td>0</td>\n",
       "      <td>0</td>\n",
       "      <td>4210</td>\n",
       "      <td>635</td>\n",
       "      <td>88</td>\n",
       "      <td>546</td>\n",
       "      <td>172</td>\n",
       "      <td>88</td>\n",
       "      <td>...</td>\n",
       "      <td>7</td>\n",
       "      <td>0</td>\n",
       "      <td>0</td>\n",
       "      <td>0</td>\n",
       "      <td>0</td>\n",
       "      <td>0</td>\n",
       "      <td>0</td>\n",
       "      <td>1</td>\n",
       "      <td>1617</td>\n",
       "      <td>1</td>\n",
       "    </tr>\n",
       "    <tr>\n",
       "      <th>1</th>\n",
       "      <td>Single</td>\n",
       "      <td>46344.0</td>\n",
       "      <td>1</td>\n",
       "      <td>1</td>\n",
       "      <td>3660</td>\n",
       "      <td>11</td>\n",
       "      <td>1</td>\n",
       "      <td>6</td>\n",
       "      <td>2</td>\n",
       "      <td>1</td>\n",
       "      <td>...</td>\n",
       "      <td>5</td>\n",
       "      <td>0</td>\n",
       "      <td>0</td>\n",
       "      <td>0</td>\n",
       "      <td>0</td>\n",
       "      <td>0</td>\n",
       "      <td>0</td>\n",
       "      <td>0</td>\n",
       "      <td>27</td>\n",
       "      <td>1</td>\n",
       "    </tr>\n",
       "    <tr>\n",
       "      <th>2</th>\n",
       "      <td>Together</td>\n",
       "      <td>71613.0</td>\n",
       "      <td>0</td>\n",
       "      <td>0</td>\n",
       "      <td>3859</td>\n",
       "      <td>426</td>\n",
       "      <td>49</td>\n",
       "      <td>127</td>\n",
       "      <td>111</td>\n",
       "      <td>21</td>\n",
       "      <td>...</td>\n",
       "      <td>4</td>\n",
       "      <td>0</td>\n",
       "      <td>0</td>\n",
       "      <td>0</td>\n",
       "      <td>0</td>\n",
       "      <td>0</td>\n",
       "      <td>0</td>\n",
       "      <td>0</td>\n",
       "      <td>776</td>\n",
       "      <td>1</td>\n",
       "    </tr>\n",
       "    <tr>\n",
       "      <th>3</th>\n",
       "      <td>Together</td>\n",
       "      <td>26646.0</td>\n",
       "      <td>1</td>\n",
       "      <td>0</td>\n",
       "      <td>3686</td>\n",
       "      <td>11</td>\n",
       "      <td>4</td>\n",
       "      <td>20</td>\n",
       "      <td>10</td>\n",
       "      <td>3</td>\n",
       "      <td>...</td>\n",
       "      <td>6</td>\n",
       "      <td>0</td>\n",
       "      <td>0</td>\n",
       "      <td>0</td>\n",
       "      <td>0</td>\n",
       "      <td>0</td>\n",
       "      <td>0</td>\n",
       "      <td>0</td>\n",
       "      <td>53</td>\n",
       "      <td>1</td>\n",
       "    </tr>\n",
       "    <tr>\n",
       "      <th>4</th>\n",
       "      <td>Married</td>\n",
       "      <td>58293.0</td>\n",
       "      <td>1</td>\n",
       "      <td>0</td>\n",
       "      <td>3708</td>\n",
       "      <td>173</td>\n",
       "      <td>43</td>\n",
       "      <td>118</td>\n",
       "      <td>46</td>\n",
       "      <td>27</td>\n",
       "      <td>...</td>\n",
       "      <td>5</td>\n",
       "      <td>0</td>\n",
       "      <td>0</td>\n",
       "      <td>0</td>\n",
       "      <td>0</td>\n",
       "      <td>0</td>\n",
       "      <td>0</td>\n",
       "      <td>0</td>\n",
       "      <td>422</td>\n",
       "      <td>4</td>\n",
       "    </tr>\n",
       "  </tbody>\n",
       "</table>\n",
       "<p>5 rows × 25 columns</p>\n",
       "</div>"
      ],
      "text/plain": [
       "  Marital_Status   Income  Kidhome  Teenhome  Recency  MntWines  MntFruits  \\\n",
       "0         Single  58138.0        0         0     4210       635         88   \n",
       "1         Single  46344.0        1         1     3660        11          1   \n",
       "2       Together  71613.0        0         0     3859       426         49   \n",
       "3       Together  26646.0        1         0     3686        11          4   \n",
       "4        Married  58293.0        1         0     3708       173         43   \n",
       "\n",
       "   MntMeatProducts  MntFishProducts  MntSweetProducts  ...  NumWebVisitsMonth  \\\n",
       "0              546              172                88  ...                  7   \n",
       "1                6                2                 1  ...                  5   \n",
       "2              127              111                21  ...                  4   \n",
       "3               20               10                 3  ...                  6   \n",
       "4              118               46                27  ...                  5   \n",
       "\n",
       "   AcceptedCmp3  AcceptedCmp4  AcceptedCmp5  AcceptedCmp1  AcceptedCmp2  \\\n",
       "0             0             0             0             0             0   \n",
       "1             0             0             0             0             0   \n",
       "2             0             0             0             0             0   \n",
       "3             0             0             0             0             0   \n",
       "4             0             0             0             0             0   \n",
       "\n",
       "   Complain  Response  total_amounts  educations  \n",
       "0         0         1           1617           1  \n",
       "1         0         0             27           1  \n",
       "2         0         0            776           1  \n",
       "3         0         0             53           1  \n",
       "4         0         0            422           4  \n",
       "\n",
       "[5 rows x 25 columns]"
      ]
     },
     "execution_count": 47,
     "metadata": {},
     "output_type": "execute_result"
    }
   ],
   "source": [
    "df.drop([\"Education\"],axis=1, inplace=True)\n",
    "df.head()"
   ]
  },
  {
   "cell_type": "code",
   "execution_count": 48,
   "id": "10cbf5d3",
   "metadata": {
    "execution": {
     "iopub.execute_input": "2024-03-15T23:03:26.390271Z",
     "iopub.status.busy": "2024-03-15T23:03:26.389820Z",
     "iopub.status.idle": "2024-03-15T23:03:26.407385Z",
     "shell.execute_reply": "2024-03-15T23:03:26.406024Z"
    },
    "papermill": {
     "duration": 0.060156,
     "end_time": "2024-03-15T23:03:26.410484",
     "exception": false,
     "start_time": "2024-03-15T23:03:26.350328",
     "status": "completed"
    },
    "tags": []
   },
   "outputs": [],
   "source": [
    "df = df.replace(to_replace=\"Single\",value=0)\n",
    "df = df.replace(to_replace=\"Divorced\",value=0)\n",
    "df = df.replace(to_replace=\"Widow\",value=0)\n",
    "df = df.replace(to_replace=\"Alone\",value=0)\n",
    "df = df.replace(to_replace=\"Absurd\",value=0)\n",
    "df = df.replace(to_replace=\"YOLO\",value=0)\n",
    "df = df.replace(to_replace=\"Married\",value=1)\n",
    "df = df.replace(to_replace=\"Together\",value=1)\n"
   ]
  },
  {
   "cell_type": "code",
   "execution_count": 49,
   "id": "bb953140",
   "metadata": {
    "execution": {
     "iopub.execute_input": "2024-03-15T23:03:26.488306Z",
     "iopub.status.busy": "2024-03-15T23:03:26.487841Z",
     "iopub.status.idle": "2024-03-15T23:03:26.499183Z",
     "shell.execute_reply": "2024-03-15T23:03:26.497928Z"
    },
    "papermill": {
     "duration": 0.054399,
     "end_time": "2024-03-15T23:03:26.502776",
     "exception": false,
     "start_time": "2024-03-15T23:03:26.448377",
     "status": "completed"
    },
    "tags": []
   },
   "outputs": [
    {
     "data": {
      "text/plain": [
       "Marital_Status          0\n",
       "Income                 24\n",
       "Kidhome                 0\n",
       "Teenhome                0\n",
       "Recency                 0\n",
       "MntWines                0\n",
       "MntFruits               0\n",
       "MntMeatProducts         0\n",
       "MntFishProducts         0\n",
       "MntSweetProducts        0\n",
       "MntGoldProds            0\n",
       "NumDealsPurchases       0\n",
       "NumWebPurchases         0\n",
       "NumCatalogPurchases     0\n",
       "NumStorePurchases       0\n",
       "NumWebVisitsMonth       0\n",
       "AcceptedCmp3            0\n",
       "AcceptedCmp4            0\n",
       "AcceptedCmp5            0\n",
       "AcceptedCmp1            0\n",
       "AcceptedCmp2            0\n",
       "Complain                0\n",
       "Response                0\n",
       "total_amounts           0\n",
       "educations              0\n",
       "dtype: int64"
      ]
     },
     "execution_count": 49,
     "metadata": {},
     "output_type": "execute_result"
    }
   ],
   "source": [
    "df.isna().sum()"
   ]
  },
  {
   "cell_type": "code",
   "execution_count": 50,
   "id": "f236d9d3",
   "metadata": {
    "execution": {
     "iopub.execute_input": "2024-03-15T23:03:26.602498Z",
     "iopub.status.busy": "2024-03-15T23:03:26.600642Z",
     "iopub.status.idle": "2024-03-15T23:03:26.609687Z",
     "shell.execute_reply": "2024-03-15T23:03:26.608528Z"
    },
    "papermill": {
     "duration": 0.060382,
     "end_time": "2024-03-15T23:03:26.612770",
     "exception": false,
     "start_time": "2024-03-15T23:03:26.552388",
     "status": "completed"
    },
    "tags": []
   },
   "outputs": [],
   "source": [
    "df['Income'].fillna(df['Income'].mean(), inplace=True)\n"
   ]
  },
  {
   "cell_type": "code",
   "execution_count": 51,
   "id": "a8ad784e",
   "metadata": {
    "execution": {
     "iopub.execute_input": "2024-03-15T23:03:26.701384Z",
     "iopub.status.busy": "2024-03-15T23:03:26.700531Z",
     "iopub.status.idle": "2024-03-15T23:03:26.710556Z",
     "shell.execute_reply": "2024-03-15T23:03:26.709493Z"
    },
    "papermill": {
     "duration": 0.053838,
     "end_time": "2024-03-15T23:03:26.713640",
     "exception": false,
     "start_time": "2024-03-15T23:03:26.659802",
     "status": "completed"
    },
    "tags": []
   },
   "outputs": [],
   "source": [
    "df = df.drop(df[df.Income > 400000].index)\n"
   ]
  },
  {
   "cell_type": "code",
   "execution_count": 52,
   "id": "3af75f96",
   "metadata": {
    "execution": {
     "iopub.execute_input": "2024-03-15T23:03:26.815238Z",
     "iopub.status.busy": "2024-03-15T23:03:26.814250Z",
     "iopub.status.idle": "2024-03-15T23:03:26.894288Z",
     "shell.execute_reply": "2024-03-15T23:03:26.892142Z"
    },
    "papermill": {
     "duration": 0.146087,
     "end_time": "2024-03-15T23:03:26.900018",
     "exception": false,
     "start_time": "2024-03-15T23:03:26.753931",
     "status": "completed"
    },
    "tags": []
   },
   "outputs": [
    {
     "name": "stdout",
     "output_type": "stream",
     "text": [
      "Explained Variance Ratios:  [9.99408364e-01 4.21819157e-04]\n",
      "Total Explained Variance:  0.9998301827572519\n"
     ]
    }
   ],
   "source": [
    "pca = PCA(n_components=2, whiten=True)\n",
    "pca.fit(df)\n",
    "data_pca = pca.transform(df)\n",
    "print(\"Explained Variance Ratios: \", pca.explained_variance_ratio_)\n",
    "print(\"Total Explained Variance: \", sum(pca.explained_variance_ratio_))"
   ]
  },
  {
   "cell_type": "code",
   "execution_count": 53,
   "id": "62204959",
   "metadata": {
    "execution": {
     "iopub.execute_input": "2024-03-15T23:03:27.045879Z",
     "iopub.status.busy": "2024-03-15T23:03:27.045442Z",
     "iopub.status.idle": "2024-03-15T23:03:27.054196Z",
     "shell.execute_reply": "2024-03-15T23:03:27.052957Z"
    },
    "papermill": {
     "duration": 0.053168,
     "end_time": "2024-03-15T23:03:27.056967",
     "exception": false,
     "start_time": "2024-03-15T23:03:27.003799",
     "status": "completed"
    },
    "tags": []
   },
   "outputs": [
    {
     "data": {
      "text/plain": [
       "array([[ 0.2891123 , -2.2497778 ],\n",
       "       [-0.26353011,  1.26902889],\n",
       "       [ 0.91692912,  0.70815563],\n",
       "       ...,\n",
       "       [ 0.23473511, -1.50868381],\n",
       "       [ 0.80650329,  0.45733602],\n",
       "       [ 0.04122349,  1.0712852 ]])"
      ]
     },
     "execution_count": 53,
     "metadata": {},
     "output_type": "execute_result"
    }
   ],
   "source": [
    "data_pca\n"
   ]
  },
  {
   "cell_type": "code",
   "execution_count": 54,
   "id": "9e4ef1cf",
   "metadata": {
    "execution": {
     "iopub.execute_input": "2024-03-15T23:03:27.151535Z",
     "iopub.status.busy": "2024-03-15T23:03:27.150917Z",
     "iopub.status.idle": "2024-03-15T23:03:29.127073Z",
     "shell.execute_reply": "2024-03-15T23:03:29.125716Z"
    },
    "papermill": {
     "duration": 2.023906,
     "end_time": "2024-03-15T23:03:29.130174",
     "exception": false,
     "start_time": "2024-03-15T23:03:27.106268",
     "status": "completed"
    },
    "tags": []
   },
   "outputs": [
    {
     "data": {
      "image/png": "[encoded data removed]",
      "text/plain": [
       "<Figure size 640x480 with 1 Axes>"
      ]
     },
     "metadata": {},
     "output_type": "display_data"
    }
   ],
   "source": [
    "wcss = []\n",
    "for k in range(1, 15):\n",
    "    kmeans = KMeans(n_clusters=k)\n",
    "    kmeans.fit(data_pca)\n",
    "    wcss.append(kmeans.inertia_)\n",
    "plt.plot(range(1, 15), wcss)\n",
    "plt.xlabel(\"Number of Clusters (k)\")\n",
    "plt.xticks(range(1, 15, 1))\n",
    "plt.ylabel(\"Within-Cluster-Sum-of-Squares (WCSS) Value\")\n",
    "plt.title(\"Elbow Method for Optimal k Selection\")\n",
    "plt.show()"
   ]
  },
  {
   "cell_type": "code",
   "execution_count": 55,
   "id": "06a5ddcd",
   "metadata": {
    "execution": {
     "iopub.execute_input": "2024-03-15T23:03:29.210900Z",
     "iopub.status.busy": "2024-03-15T23:03:29.210407Z",
     "iopub.status.idle": "2024-03-15T23:03:29.283496Z",
     "shell.execute_reply": "2024-03-15T23:03:29.281984Z"
    },
    "papermill": {
     "duration": 0.117712,
     "end_time": "2024-03-15T23:03:29.286732",
     "exception": false,
     "start_time": "2024-03-15T23:03:29.169020",
     "status": "completed"
    },
    "tags": []
   },
   "outputs": [],
   "source": [
    "kmeans2 = KMeans(n_clusters=3)\n",
    "clusters = kmeans2.fit_predict(data_pca)"
   ]
  },
  {
   "cell_type": "code",
   "execution_count": 56,
   "id": "a22e42db",
   "metadata": {
    "execution": {
     "iopub.execute_input": "2024-03-15T23:03:29.374274Z",
     "iopub.status.busy": "2024-03-15T23:03:29.373715Z",
     "iopub.status.idle": "2024-03-15T23:03:29.859553Z",
     "shell.execute_reply": "2024-03-15T23:03:29.857458Z"
    },
    "papermill": {
     "duration": 0.535507,
     "end_time": "2024-03-15T23:03:29.863774",
     "exception": false,
     "start_time": "2024-03-15T23:03:29.328267",
     "status": "completed"
    },
    "tags": []
   },
   "outputs": [
    {
     "data": {
      "image/png": "[encoded data removed]",
      "text/plain": [
       "<Figure size 640x480 with 1 Axes>"
      ]
     },
     "metadata": {},
     "output_type": "display_data"
    }
   ],
   "source": [
    "colors = plt.cm.get_cmap('tab10', 3)\n",
    "for cluster_num in range(3):\n",
    "    plt.scatter(data_pca[clusters == cluster_num, 0], \n",
    "                data_pca[clusters == cluster_num, 1], \n",
    "                label=f'{cluster_num + 1}. Customer Cluster', \n",
    "                color=colors(cluster_num))\n",
    "\n",
    "plt.title('Customer Clusters')\n",
    "plt.xlabel('PCA 1')\n",
    "plt.ylabel('PCA 2')\n",
    "plt.legend()\n",
    "plt.show()"
   ]
  },
  {
   "cell_type": "code",
   "execution_count": null,
   "id": "9141b0de",
   "metadata": {
    "papermill": {
     "duration": 0.04193,
     "end_time": "2024-03-15T23:03:29.949550",
     "exception": false,
     "start_time": "2024-03-15T23:03:29.907620",
     "status": "completed"
    },
    "tags": []
   },
   "outputs": [],
   "source": []
  }
 ],
 "metadata": {
  "kaggle": {
   "accelerator": "none",
   "dataSources": [
    {
     "datasetId": 1546318,
     "sourceId": 2549419,
     "sourceType": "datasetVersion"
    }
   ],
   "dockerImageVersionId": 30664,
   "isGpuEnabled": false,
   "isInternetEnabled": true,
   "language": "python",
   "sourceType": "notebook"
  },
  "kernelspec": {
   "display_name": "Python 3",
   "language": "python",
   "name": "python3"
  },
  "language_info": {
   "codemirror_mode": {
    "name": "ipython",
    "version": 3
   },
   "file_extension": ".py",
   "mimetype": "text/x-python",
   "name": "python",
   "nbconvert_exporter": "python",
   "pygments_lexer": "ipython3",
   "version": "3.10.13"
  },
  "papermill": {
   "default_parameters": {},
   "duration": 55.454218,
   "end_time": "2024-03-15T23:03:30.817739",
   "environment_variables": {},
   "exception": null,
   "input_path": "__notebook__.ipynb",
   "output_path": "__notebook__.ipynb",
   "parameters": {},
   "start_time": "2024-03-15T23:02:35.363521",
   "version": "2.5.0"
  }
 },
 "nbformat": 4,
 "nbformat_minor": 5
}
